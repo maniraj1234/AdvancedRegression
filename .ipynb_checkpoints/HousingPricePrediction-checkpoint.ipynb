{
 "cells": [
  {
   "cell_type": "markdown",
   "id": "1f3c2082",
   "metadata": {},
   "source": [
    "## Analysis for Surprise Housing to enter Australian market"
   ]
  },
  {
   "cell_type": "markdown",
   "id": "ee437b2d",
   "metadata": {},
   "source": [
    "Company wants to make profits by purchasing houses at lower prices and sell at a higher price.\n",
    "\n",
    "`Dataset:` sale of houses in Australia of period 2006-2010\n",
    "\n",
    "`Target variable:` SalePrice      \n",
    "\n",
    "`Aim` Explainability of model is important, hence Linear regression is performed with regularization techniques."
   ]
  },
  {
   "cell_type": "code",
   "execution_count": 205,
   "id": "e0641f73",
   "metadata": {},
   "outputs": [],
   "source": [
    "#import all common libraries\n",
    "import numpy as np\n",
    "import pandas as pd\n",
    "import matplotlib.pyplot as plt\n",
    "import seaborn as sns\n",
    "import warnings \n",
    "warnings.filterwarnings('ignore')"
   ]
  },
  {
   "cell_type": "markdown",
   "id": "3383feb4",
   "metadata": {},
   "source": [
    "### Exploratory Data Analysis"
   ]
  },
  {
   "cell_type": "markdown",
   "id": "c69d38e7",
   "metadata": {},
   "source": [
    "#### Load data"
   ]
  },
  {
   "cell_type": "code",
   "execution_count": 206,
   "id": "0cc4934f",
   "metadata": {},
   "outputs": [],
   "source": [
    "housing_sales_data = pd.read_csv('train.csv', index_col='Id')"
   ]
  },
  {
   "cell_type": "code",
   "execution_count": 207,
   "id": "c7466e5a",
   "metadata": {},
   "outputs": [
    {
     "data": {
      "text/plain": [
       "(1460, 80)"
      ]
     },
     "execution_count": 207,
     "metadata": {},
     "output_type": "execute_result"
    }
   ],
   "source": [
    "housing_sales_data.shape"
   ]
  },
  {
   "cell_type": "code",
   "execution_count": 208,
   "id": "4496df14",
   "metadata": {},
   "outputs": [
    {
     "data": {
      "text/html": [
       "<div>\n",
       "<style scoped>\n",
       "    .dataframe tbody tr th:only-of-type {\n",
       "        vertical-align: middle;\n",
       "    }\n",
       "\n",
       "    .dataframe tbody tr th {\n",
       "        vertical-align: top;\n",
       "    }\n",
       "\n",
       "    .dataframe thead th {\n",
       "        text-align: right;\n",
       "    }\n",
       "</style>\n",
       "<table border=\"1\" class=\"dataframe\">\n",
       "  <thead>\n",
       "    <tr style=\"text-align: right;\">\n",
       "      <th></th>\n",
       "      <th>MSSubClass</th>\n",
       "      <th>MSZoning</th>\n",
       "      <th>LotFrontage</th>\n",
       "      <th>LotArea</th>\n",
       "      <th>Street</th>\n",
       "      <th>Alley</th>\n",
       "      <th>LotShape</th>\n",
       "      <th>LandContour</th>\n",
       "      <th>Utilities</th>\n",
       "      <th>LotConfig</th>\n",
       "      <th>...</th>\n",
       "      <th>PoolArea</th>\n",
       "      <th>PoolQC</th>\n",
       "      <th>Fence</th>\n",
       "      <th>MiscFeature</th>\n",
       "      <th>MiscVal</th>\n",
       "      <th>MoSold</th>\n",
       "      <th>YrSold</th>\n",
       "      <th>SaleType</th>\n",
       "      <th>SaleCondition</th>\n",
       "      <th>SalePrice</th>\n",
       "    </tr>\n",
       "    <tr>\n",
       "      <th>Id</th>\n",
       "      <th></th>\n",
       "      <th></th>\n",
       "      <th></th>\n",
       "      <th></th>\n",
       "      <th></th>\n",
       "      <th></th>\n",
       "      <th></th>\n",
       "      <th></th>\n",
       "      <th></th>\n",
       "      <th></th>\n",
       "      <th></th>\n",
       "      <th></th>\n",
       "      <th></th>\n",
       "      <th></th>\n",
       "      <th></th>\n",
       "      <th></th>\n",
       "      <th></th>\n",
       "      <th></th>\n",
       "      <th></th>\n",
       "      <th></th>\n",
       "      <th></th>\n",
       "    </tr>\n",
       "  </thead>\n",
       "  <tbody>\n",
       "    <tr>\n",
       "      <th>1</th>\n",
       "      <td>60</td>\n",
       "      <td>RL</td>\n",
       "      <td>65.0</td>\n",
       "      <td>8450</td>\n",
       "      <td>Pave</td>\n",
       "      <td>NaN</td>\n",
       "      <td>Reg</td>\n",
       "      <td>Lvl</td>\n",
       "      <td>AllPub</td>\n",
       "      <td>Inside</td>\n",
       "      <td>...</td>\n",
       "      <td>0</td>\n",
       "      <td>NaN</td>\n",
       "      <td>NaN</td>\n",
       "      <td>NaN</td>\n",
       "      <td>0</td>\n",
       "      <td>2</td>\n",
       "      <td>2008</td>\n",
       "      <td>WD</td>\n",
       "      <td>Normal</td>\n",
       "      <td>208500</td>\n",
       "    </tr>\n",
       "    <tr>\n",
       "      <th>2</th>\n",
       "      <td>20</td>\n",
       "      <td>RL</td>\n",
       "      <td>80.0</td>\n",
       "      <td>9600</td>\n",
       "      <td>Pave</td>\n",
       "      <td>NaN</td>\n",
       "      <td>Reg</td>\n",
       "      <td>Lvl</td>\n",
       "      <td>AllPub</td>\n",
       "      <td>FR2</td>\n",
       "      <td>...</td>\n",
       "      <td>0</td>\n",
       "      <td>NaN</td>\n",
       "      <td>NaN</td>\n",
       "      <td>NaN</td>\n",
       "      <td>0</td>\n",
       "      <td>5</td>\n",
       "      <td>2007</td>\n",
       "      <td>WD</td>\n",
       "      <td>Normal</td>\n",
       "      <td>181500</td>\n",
       "    </tr>\n",
       "    <tr>\n",
       "      <th>3</th>\n",
       "      <td>60</td>\n",
       "      <td>RL</td>\n",
       "      <td>68.0</td>\n",
       "      <td>11250</td>\n",
       "      <td>Pave</td>\n",
       "      <td>NaN</td>\n",
       "      <td>IR1</td>\n",
       "      <td>Lvl</td>\n",
       "      <td>AllPub</td>\n",
       "      <td>Inside</td>\n",
       "      <td>...</td>\n",
       "      <td>0</td>\n",
       "      <td>NaN</td>\n",
       "      <td>NaN</td>\n",
       "      <td>NaN</td>\n",
       "      <td>0</td>\n",
       "      <td>9</td>\n",
       "      <td>2008</td>\n",
       "      <td>WD</td>\n",
       "      <td>Normal</td>\n",
       "      <td>223500</td>\n",
       "    </tr>\n",
       "    <tr>\n",
       "      <th>4</th>\n",
       "      <td>70</td>\n",
       "      <td>RL</td>\n",
       "      <td>60.0</td>\n",
       "      <td>9550</td>\n",
       "      <td>Pave</td>\n",
       "      <td>NaN</td>\n",
       "      <td>IR1</td>\n",
       "      <td>Lvl</td>\n",
       "      <td>AllPub</td>\n",
       "      <td>Corner</td>\n",
       "      <td>...</td>\n",
       "      <td>0</td>\n",
       "      <td>NaN</td>\n",
       "      <td>NaN</td>\n",
       "      <td>NaN</td>\n",
       "      <td>0</td>\n",
       "      <td>2</td>\n",
       "      <td>2006</td>\n",
       "      <td>WD</td>\n",
       "      <td>Abnorml</td>\n",
       "      <td>140000</td>\n",
       "    </tr>\n",
       "    <tr>\n",
       "      <th>5</th>\n",
       "      <td>60</td>\n",
       "      <td>RL</td>\n",
       "      <td>84.0</td>\n",
       "      <td>14260</td>\n",
       "      <td>Pave</td>\n",
       "      <td>NaN</td>\n",
       "      <td>IR1</td>\n",
       "      <td>Lvl</td>\n",
       "      <td>AllPub</td>\n",
       "      <td>FR2</td>\n",
       "      <td>...</td>\n",
       "      <td>0</td>\n",
       "      <td>NaN</td>\n",
       "      <td>NaN</td>\n",
       "      <td>NaN</td>\n",
       "      <td>0</td>\n",
       "      <td>12</td>\n",
       "      <td>2008</td>\n",
       "      <td>WD</td>\n",
       "      <td>Normal</td>\n",
       "      <td>250000</td>\n",
       "    </tr>\n",
       "  </tbody>\n",
       "</table>\n",
       "<p>5 rows × 80 columns</p>\n",
       "</div>"
      ],
      "text/plain": [
       "    MSSubClass MSZoning  LotFrontage  LotArea Street Alley LotShape  \\\n",
       "Id                                                                    \n",
       "1           60       RL         65.0     8450   Pave   NaN      Reg   \n",
       "2           20       RL         80.0     9600   Pave   NaN      Reg   \n",
       "3           60       RL         68.0    11250   Pave   NaN      IR1   \n",
       "4           70       RL         60.0     9550   Pave   NaN      IR1   \n",
       "5           60       RL         84.0    14260   Pave   NaN      IR1   \n",
       "\n",
       "   LandContour Utilities LotConfig  ... PoolArea PoolQC Fence MiscFeature  \\\n",
       "Id                                  ...                                     \n",
       "1          Lvl    AllPub    Inside  ...        0    NaN   NaN         NaN   \n",
       "2          Lvl    AllPub       FR2  ...        0    NaN   NaN         NaN   \n",
       "3          Lvl    AllPub    Inside  ...        0    NaN   NaN         NaN   \n",
       "4          Lvl    AllPub    Corner  ...        0    NaN   NaN         NaN   \n",
       "5          Lvl    AllPub       FR2  ...        0    NaN   NaN         NaN   \n",
       "\n",
       "   MiscVal MoSold  YrSold  SaleType  SaleCondition  SalePrice  \n",
       "Id                                                             \n",
       "1        0      2    2008        WD         Normal     208500  \n",
       "2        0      5    2007        WD         Normal     181500  \n",
       "3        0      9    2008        WD         Normal     223500  \n",
       "4        0      2    2006        WD        Abnorml     140000  \n",
       "5        0     12    2008        WD         Normal     250000  \n",
       "\n",
       "[5 rows x 80 columns]"
      ]
     },
     "execution_count": 208,
     "metadata": {},
     "output_type": "execute_result"
    }
   ],
   "source": [
    "housing_sales_data.head(5)"
   ]
  },
  {
   "cell_type": "code",
   "execution_count": 209,
   "id": "82f14108",
   "metadata": {},
   "outputs": [
    {
     "name": "stdout",
     "output_type": "stream",
     "text": [
      "<class 'pandas.core.frame.DataFrame'>\n",
      "Int64Index: 1460 entries, 1 to 1460\n",
      "Data columns (total 80 columns):\n",
      " #   Column         Non-Null Count  Dtype  \n",
      "---  ------         --------------  -----  \n",
      " 0   MSSubClass     1460 non-null   int64  \n",
      " 1   MSZoning       1460 non-null   object \n",
      " 2   LotFrontage    1201 non-null   float64\n",
      " 3   LotArea        1460 non-null   int64  \n",
      " 4   Street         1460 non-null   object \n",
      " 5   Alley          91 non-null     object \n",
      " 6   LotShape       1460 non-null   object \n",
      " 7   LandContour    1460 non-null   object \n",
      " 8   Utilities      1460 non-null   object \n",
      " 9   LotConfig      1460 non-null   object \n",
      " 10  LandSlope      1460 non-null   object \n",
      " 11  Neighborhood   1460 non-null   object \n",
      " 12  Condition1     1460 non-null   object \n",
      " 13  Condition2     1460 non-null   object \n",
      " 14  BldgType       1460 non-null   object \n",
      " 15  HouseStyle     1460 non-null   object \n",
      " 16  OverallQual    1460 non-null   int64  \n",
      " 17  OverallCond    1460 non-null   int64  \n",
      " 18  YearBuilt      1460 non-null   int64  \n",
      " 19  YearRemodAdd   1460 non-null   int64  \n",
      " 20  RoofStyle      1460 non-null   object \n",
      " 21  RoofMatl       1460 non-null   object \n",
      " 22  Exterior1st    1460 non-null   object \n",
      " 23  Exterior2nd    1460 non-null   object \n",
      " 24  MasVnrType     1452 non-null   object \n",
      " 25  MasVnrArea     1452 non-null   float64\n",
      " 26  ExterQual      1460 non-null   object \n",
      " 27  ExterCond      1460 non-null   object \n",
      " 28  Foundation     1460 non-null   object \n",
      " 29  BsmtQual       1423 non-null   object \n",
      " 30  BsmtCond       1423 non-null   object \n",
      " 31  BsmtExposure   1422 non-null   object \n",
      " 32  BsmtFinType1   1423 non-null   object \n",
      " 33  BsmtFinSF1     1460 non-null   int64  \n",
      " 34  BsmtFinType2   1422 non-null   object \n",
      " 35  BsmtFinSF2     1460 non-null   int64  \n",
      " 36  BsmtUnfSF      1460 non-null   int64  \n",
      " 37  TotalBsmtSF    1460 non-null   int64  \n",
      " 38  Heating        1460 non-null   object \n",
      " 39  HeatingQC      1460 non-null   object \n",
      " 40  CentralAir     1460 non-null   object \n",
      " 41  Electrical     1459 non-null   object \n",
      " 42  1stFlrSF       1460 non-null   int64  \n",
      " 43  2ndFlrSF       1460 non-null   int64  \n",
      " 44  LowQualFinSF   1460 non-null   int64  \n",
      " 45  GrLivArea      1460 non-null   int64  \n",
      " 46  BsmtFullBath   1460 non-null   int64  \n",
      " 47  BsmtHalfBath   1460 non-null   int64  \n",
      " 48  FullBath       1460 non-null   int64  \n",
      " 49  HalfBath       1460 non-null   int64  \n",
      " 50  BedroomAbvGr   1460 non-null   int64  \n",
      " 51  KitchenAbvGr   1460 non-null   int64  \n",
      " 52  KitchenQual    1460 non-null   object \n",
      " 53  TotRmsAbvGrd   1460 non-null   int64  \n",
      " 54  Functional     1460 non-null   object \n",
      " 55  Fireplaces     1460 non-null   int64  \n",
      " 56  FireplaceQu    770 non-null    object \n",
      " 57  GarageType     1379 non-null   object \n",
      " 58  GarageYrBlt    1379 non-null   float64\n",
      " 59  GarageFinish   1379 non-null   object \n",
      " 60  GarageCars     1460 non-null   int64  \n",
      " 61  GarageArea     1460 non-null   int64  \n",
      " 62  GarageQual     1379 non-null   object \n",
      " 63  GarageCond     1379 non-null   object \n",
      " 64  PavedDrive     1460 non-null   object \n",
      " 65  WoodDeckSF     1460 non-null   int64  \n",
      " 66  OpenPorchSF    1460 non-null   int64  \n",
      " 67  EnclosedPorch  1460 non-null   int64  \n",
      " 68  3SsnPorch      1460 non-null   int64  \n",
      " 69  ScreenPorch    1460 non-null   int64  \n",
      " 70  PoolArea       1460 non-null   int64  \n",
      " 71  PoolQC         7 non-null      object \n",
      " 72  Fence          281 non-null    object \n",
      " 73  MiscFeature    54 non-null     object \n",
      " 74  MiscVal        1460 non-null   int64  \n",
      " 75  MoSold         1460 non-null   int64  \n",
      " 76  YrSold         1460 non-null   int64  \n",
      " 77  SaleType       1460 non-null   object \n",
      " 78  SaleCondition  1460 non-null   object \n",
      " 79  SalePrice      1460 non-null   int64  \n",
      "dtypes: float64(3), int64(34), object(43)\n",
      "memory usage: 923.9+ KB\n"
     ]
    }
   ],
   "source": [
    "housing_sales_data.info()"
   ]
  },
  {
   "cell_type": "code",
   "execution_count": 210,
   "id": "d19b8e8b",
   "metadata": {},
   "outputs": [
    {
     "data": {
      "text/html": [
       "<div>\n",
       "<style scoped>\n",
       "    .dataframe tbody tr th:only-of-type {\n",
       "        vertical-align: middle;\n",
       "    }\n",
       "\n",
       "    .dataframe tbody tr th {\n",
       "        vertical-align: top;\n",
       "    }\n",
       "\n",
       "    .dataframe thead th {\n",
       "        text-align: right;\n",
       "    }\n",
       "</style>\n",
       "<table border=\"1\" class=\"dataframe\">\n",
       "  <thead>\n",
       "    <tr style=\"text-align: right;\">\n",
       "      <th></th>\n",
       "      <th>MSSubClass</th>\n",
       "      <th>LotFrontage</th>\n",
       "      <th>LotArea</th>\n",
       "      <th>OverallQual</th>\n",
       "      <th>OverallCond</th>\n",
       "      <th>YearBuilt</th>\n",
       "      <th>YearRemodAdd</th>\n",
       "      <th>MasVnrArea</th>\n",
       "      <th>BsmtFinSF1</th>\n",
       "      <th>BsmtFinSF2</th>\n",
       "      <th>...</th>\n",
       "      <th>WoodDeckSF</th>\n",
       "      <th>OpenPorchSF</th>\n",
       "      <th>EnclosedPorch</th>\n",
       "      <th>3SsnPorch</th>\n",
       "      <th>ScreenPorch</th>\n",
       "      <th>PoolArea</th>\n",
       "      <th>MiscVal</th>\n",
       "      <th>MoSold</th>\n",
       "      <th>YrSold</th>\n",
       "      <th>SalePrice</th>\n",
       "    </tr>\n",
       "  </thead>\n",
       "  <tbody>\n",
       "    <tr>\n",
       "      <th>count</th>\n",
       "      <td>1460.000000</td>\n",
       "      <td>1201.000000</td>\n",
       "      <td>1460.000000</td>\n",
       "      <td>1460.000000</td>\n",
       "      <td>1460.000000</td>\n",
       "      <td>1460.000000</td>\n",
       "      <td>1460.000000</td>\n",
       "      <td>1452.000000</td>\n",
       "      <td>1460.000000</td>\n",
       "      <td>1460.000000</td>\n",
       "      <td>...</td>\n",
       "      <td>1460.000000</td>\n",
       "      <td>1460.000000</td>\n",
       "      <td>1460.000000</td>\n",
       "      <td>1460.000000</td>\n",
       "      <td>1460.000000</td>\n",
       "      <td>1460.000000</td>\n",
       "      <td>1460.000000</td>\n",
       "      <td>1460.000000</td>\n",
       "      <td>1460.000000</td>\n",
       "      <td>1460.000000</td>\n",
       "    </tr>\n",
       "    <tr>\n",
       "      <th>mean</th>\n",
       "      <td>56.897260</td>\n",
       "      <td>70.049958</td>\n",
       "      <td>10516.828082</td>\n",
       "      <td>6.099315</td>\n",
       "      <td>5.575342</td>\n",
       "      <td>1971.267808</td>\n",
       "      <td>1984.865753</td>\n",
       "      <td>103.685262</td>\n",
       "      <td>443.639726</td>\n",
       "      <td>46.549315</td>\n",
       "      <td>...</td>\n",
       "      <td>94.244521</td>\n",
       "      <td>46.660274</td>\n",
       "      <td>21.954110</td>\n",
       "      <td>3.409589</td>\n",
       "      <td>15.060959</td>\n",
       "      <td>2.758904</td>\n",
       "      <td>43.489041</td>\n",
       "      <td>6.321918</td>\n",
       "      <td>2007.815753</td>\n",
       "      <td>180921.195890</td>\n",
       "    </tr>\n",
       "    <tr>\n",
       "      <th>std</th>\n",
       "      <td>42.300571</td>\n",
       "      <td>24.284752</td>\n",
       "      <td>9981.264932</td>\n",
       "      <td>1.382997</td>\n",
       "      <td>1.112799</td>\n",
       "      <td>30.202904</td>\n",
       "      <td>20.645407</td>\n",
       "      <td>181.066207</td>\n",
       "      <td>456.098091</td>\n",
       "      <td>161.319273</td>\n",
       "      <td>...</td>\n",
       "      <td>125.338794</td>\n",
       "      <td>66.256028</td>\n",
       "      <td>61.119149</td>\n",
       "      <td>29.317331</td>\n",
       "      <td>55.757415</td>\n",
       "      <td>40.177307</td>\n",
       "      <td>496.123024</td>\n",
       "      <td>2.703626</td>\n",
       "      <td>1.328095</td>\n",
       "      <td>79442.502883</td>\n",
       "    </tr>\n",
       "    <tr>\n",
       "      <th>min</th>\n",
       "      <td>20.000000</td>\n",
       "      <td>21.000000</td>\n",
       "      <td>1300.000000</td>\n",
       "      <td>1.000000</td>\n",
       "      <td>1.000000</td>\n",
       "      <td>1872.000000</td>\n",
       "      <td>1950.000000</td>\n",
       "      <td>0.000000</td>\n",
       "      <td>0.000000</td>\n",
       "      <td>0.000000</td>\n",
       "      <td>...</td>\n",
       "      <td>0.000000</td>\n",
       "      <td>0.000000</td>\n",
       "      <td>0.000000</td>\n",
       "      <td>0.000000</td>\n",
       "      <td>0.000000</td>\n",
       "      <td>0.000000</td>\n",
       "      <td>0.000000</td>\n",
       "      <td>1.000000</td>\n",
       "      <td>2006.000000</td>\n",
       "      <td>34900.000000</td>\n",
       "    </tr>\n",
       "    <tr>\n",
       "      <th>25%</th>\n",
       "      <td>20.000000</td>\n",
       "      <td>59.000000</td>\n",
       "      <td>7553.500000</td>\n",
       "      <td>5.000000</td>\n",
       "      <td>5.000000</td>\n",
       "      <td>1954.000000</td>\n",
       "      <td>1967.000000</td>\n",
       "      <td>0.000000</td>\n",
       "      <td>0.000000</td>\n",
       "      <td>0.000000</td>\n",
       "      <td>...</td>\n",
       "      <td>0.000000</td>\n",
       "      <td>0.000000</td>\n",
       "      <td>0.000000</td>\n",
       "      <td>0.000000</td>\n",
       "      <td>0.000000</td>\n",
       "      <td>0.000000</td>\n",
       "      <td>0.000000</td>\n",
       "      <td>5.000000</td>\n",
       "      <td>2007.000000</td>\n",
       "      <td>129975.000000</td>\n",
       "    </tr>\n",
       "    <tr>\n",
       "      <th>50%</th>\n",
       "      <td>50.000000</td>\n",
       "      <td>69.000000</td>\n",
       "      <td>9478.500000</td>\n",
       "      <td>6.000000</td>\n",
       "      <td>5.000000</td>\n",
       "      <td>1973.000000</td>\n",
       "      <td>1994.000000</td>\n",
       "      <td>0.000000</td>\n",
       "      <td>383.500000</td>\n",
       "      <td>0.000000</td>\n",
       "      <td>...</td>\n",
       "      <td>0.000000</td>\n",
       "      <td>25.000000</td>\n",
       "      <td>0.000000</td>\n",
       "      <td>0.000000</td>\n",
       "      <td>0.000000</td>\n",
       "      <td>0.000000</td>\n",
       "      <td>0.000000</td>\n",
       "      <td>6.000000</td>\n",
       "      <td>2008.000000</td>\n",
       "      <td>163000.000000</td>\n",
       "    </tr>\n",
       "    <tr>\n",
       "      <th>75%</th>\n",
       "      <td>70.000000</td>\n",
       "      <td>80.000000</td>\n",
       "      <td>11601.500000</td>\n",
       "      <td>7.000000</td>\n",
       "      <td>6.000000</td>\n",
       "      <td>2000.000000</td>\n",
       "      <td>2004.000000</td>\n",
       "      <td>166.000000</td>\n",
       "      <td>712.250000</td>\n",
       "      <td>0.000000</td>\n",
       "      <td>...</td>\n",
       "      <td>168.000000</td>\n",
       "      <td>68.000000</td>\n",
       "      <td>0.000000</td>\n",
       "      <td>0.000000</td>\n",
       "      <td>0.000000</td>\n",
       "      <td>0.000000</td>\n",
       "      <td>0.000000</td>\n",
       "      <td>8.000000</td>\n",
       "      <td>2009.000000</td>\n",
       "      <td>214000.000000</td>\n",
       "    </tr>\n",
       "    <tr>\n",
       "      <th>max</th>\n",
       "      <td>190.000000</td>\n",
       "      <td>313.000000</td>\n",
       "      <td>215245.000000</td>\n",
       "      <td>10.000000</td>\n",
       "      <td>9.000000</td>\n",
       "      <td>2010.000000</td>\n",
       "      <td>2010.000000</td>\n",
       "      <td>1600.000000</td>\n",
       "      <td>5644.000000</td>\n",
       "      <td>1474.000000</td>\n",
       "      <td>...</td>\n",
       "      <td>857.000000</td>\n",
       "      <td>547.000000</td>\n",
       "      <td>552.000000</td>\n",
       "      <td>508.000000</td>\n",
       "      <td>480.000000</td>\n",
       "      <td>738.000000</td>\n",
       "      <td>15500.000000</td>\n",
       "      <td>12.000000</td>\n",
       "      <td>2010.000000</td>\n",
       "      <td>755000.000000</td>\n",
       "    </tr>\n",
       "  </tbody>\n",
       "</table>\n",
       "<p>8 rows × 37 columns</p>\n",
       "</div>"
      ],
      "text/plain": [
       "        MSSubClass  LotFrontage        LotArea  OverallQual  OverallCond  \\\n",
       "count  1460.000000  1201.000000    1460.000000  1460.000000  1460.000000   \n",
       "mean     56.897260    70.049958   10516.828082     6.099315     5.575342   \n",
       "std      42.300571    24.284752    9981.264932     1.382997     1.112799   \n",
       "min      20.000000    21.000000    1300.000000     1.000000     1.000000   \n",
       "25%      20.000000    59.000000    7553.500000     5.000000     5.000000   \n",
       "50%      50.000000    69.000000    9478.500000     6.000000     5.000000   \n",
       "75%      70.000000    80.000000   11601.500000     7.000000     6.000000   \n",
       "max     190.000000   313.000000  215245.000000    10.000000     9.000000   \n",
       "\n",
       "         YearBuilt  YearRemodAdd   MasVnrArea   BsmtFinSF1   BsmtFinSF2  ...  \\\n",
       "count  1460.000000   1460.000000  1452.000000  1460.000000  1460.000000  ...   \n",
       "mean   1971.267808   1984.865753   103.685262   443.639726    46.549315  ...   \n",
       "std      30.202904     20.645407   181.066207   456.098091   161.319273  ...   \n",
       "min    1872.000000   1950.000000     0.000000     0.000000     0.000000  ...   \n",
       "25%    1954.000000   1967.000000     0.000000     0.000000     0.000000  ...   \n",
       "50%    1973.000000   1994.000000     0.000000   383.500000     0.000000  ...   \n",
       "75%    2000.000000   2004.000000   166.000000   712.250000     0.000000  ...   \n",
       "max    2010.000000   2010.000000  1600.000000  5644.000000  1474.000000  ...   \n",
       "\n",
       "        WoodDeckSF  OpenPorchSF  EnclosedPorch    3SsnPorch  ScreenPorch  \\\n",
       "count  1460.000000  1460.000000    1460.000000  1460.000000  1460.000000   \n",
       "mean     94.244521    46.660274      21.954110     3.409589    15.060959   \n",
       "std     125.338794    66.256028      61.119149    29.317331    55.757415   \n",
       "min       0.000000     0.000000       0.000000     0.000000     0.000000   \n",
       "25%       0.000000     0.000000       0.000000     0.000000     0.000000   \n",
       "50%       0.000000    25.000000       0.000000     0.000000     0.000000   \n",
       "75%     168.000000    68.000000       0.000000     0.000000     0.000000   \n",
       "max     857.000000   547.000000     552.000000   508.000000   480.000000   \n",
       "\n",
       "          PoolArea       MiscVal       MoSold       YrSold      SalePrice  \n",
       "count  1460.000000   1460.000000  1460.000000  1460.000000    1460.000000  \n",
       "mean      2.758904     43.489041     6.321918  2007.815753  180921.195890  \n",
       "std      40.177307    496.123024     2.703626     1.328095   79442.502883  \n",
       "min       0.000000      0.000000     1.000000  2006.000000   34900.000000  \n",
       "25%       0.000000      0.000000     5.000000  2007.000000  129975.000000  \n",
       "50%       0.000000      0.000000     6.000000  2008.000000  163000.000000  \n",
       "75%       0.000000      0.000000     8.000000  2009.000000  214000.000000  \n",
       "max     738.000000  15500.000000    12.000000  2010.000000  755000.000000  \n",
       "\n",
       "[8 rows x 37 columns]"
      ]
     },
     "execution_count": 210,
     "metadata": {},
     "output_type": "execute_result"
    }
   ],
   "source": [
    "housing_sales_data.describe()"
   ]
  },
  {
   "cell_type": "code",
   "execution_count": 211,
   "id": "f7ce996d",
   "metadata": {},
   "outputs": [
    {
     "data": {
      "text/html": [
       "<div>\n",
       "<style scoped>\n",
       "    .dataframe tbody tr th:only-of-type {\n",
       "        vertical-align: middle;\n",
       "    }\n",
       "\n",
       "    .dataframe tbody tr th {\n",
       "        vertical-align: top;\n",
       "    }\n",
       "\n",
       "    .dataframe thead th {\n",
       "        text-align: right;\n",
       "    }\n",
       "</style>\n",
       "<table border=\"1\" class=\"dataframe\">\n",
       "  <thead>\n",
       "    <tr style=\"text-align: right;\">\n",
       "      <th></th>\n",
       "      <th>MSSubClass</th>\n",
       "      <th>MSZoning</th>\n",
       "      <th>LotFrontage</th>\n",
       "      <th>LotArea</th>\n",
       "      <th>Street</th>\n",
       "      <th>Alley</th>\n",
       "      <th>LotShape</th>\n",
       "      <th>LandContour</th>\n",
       "      <th>Utilities</th>\n",
       "      <th>LotConfig</th>\n",
       "      <th>...</th>\n",
       "      <th>PoolArea</th>\n",
       "      <th>PoolQC</th>\n",
       "      <th>Fence</th>\n",
       "      <th>MiscFeature</th>\n",
       "      <th>MiscVal</th>\n",
       "      <th>MoSold</th>\n",
       "      <th>YrSold</th>\n",
       "      <th>SaleType</th>\n",
       "      <th>SaleCondition</th>\n",
       "      <th>SalePrice</th>\n",
       "    </tr>\n",
       "    <tr>\n",
       "      <th>Id</th>\n",
       "      <th></th>\n",
       "      <th></th>\n",
       "      <th></th>\n",
       "      <th></th>\n",
       "      <th></th>\n",
       "      <th></th>\n",
       "      <th></th>\n",
       "      <th></th>\n",
       "      <th></th>\n",
       "      <th></th>\n",
       "      <th></th>\n",
       "      <th></th>\n",
       "      <th></th>\n",
       "      <th></th>\n",
       "      <th></th>\n",
       "      <th></th>\n",
       "      <th></th>\n",
       "      <th></th>\n",
       "      <th></th>\n",
       "      <th></th>\n",
       "      <th></th>\n",
       "    </tr>\n",
       "  </thead>\n",
       "  <tbody>\n",
       "    <tr>\n",
       "      <th>198</th>\n",
       "      <td>75</td>\n",
       "      <td>RL</td>\n",
       "      <td>174.0</td>\n",
       "      <td>25419</td>\n",
       "      <td>Pave</td>\n",
       "      <td>NaN</td>\n",
       "      <td>Reg</td>\n",
       "      <td>Lvl</td>\n",
       "      <td>AllPub</td>\n",
       "      <td>Corner</td>\n",
       "      <td>...</td>\n",
       "      <td>512</td>\n",
       "      <td>Ex</td>\n",
       "      <td>GdPrv</td>\n",
       "      <td>NaN</td>\n",
       "      <td>0</td>\n",
       "      <td>3</td>\n",
       "      <td>2006</td>\n",
       "      <td>WD</td>\n",
       "      <td>Abnorml</td>\n",
       "      <td>235000</td>\n",
       "    </tr>\n",
       "    <tr>\n",
       "      <th>811</th>\n",
       "      <td>20</td>\n",
       "      <td>RL</td>\n",
       "      <td>78.0</td>\n",
       "      <td>10140</td>\n",
       "      <td>Pave</td>\n",
       "      <td>NaN</td>\n",
       "      <td>Reg</td>\n",
       "      <td>Lvl</td>\n",
       "      <td>AllPub</td>\n",
       "      <td>Inside</td>\n",
       "      <td>...</td>\n",
       "      <td>648</td>\n",
       "      <td>Fa</td>\n",
       "      <td>GdPrv</td>\n",
       "      <td>NaN</td>\n",
       "      <td>0</td>\n",
       "      <td>1</td>\n",
       "      <td>2006</td>\n",
       "      <td>WD</td>\n",
       "      <td>Normal</td>\n",
       "      <td>181000</td>\n",
       "    </tr>\n",
       "    <tr>\n",
       "      <th>1171</th>\n",
       "      <td>80</td>\n",
       "      <td>RL</td>\n",
       "      <td>76.0</td>\n",
       "      <td>9880</td>\n",
       "      <td>Pave</td>\n",
       "      <td>NaN</td>\n",
       "      <td>Reg</td>\n",
       "      <td>Lvl</td>\n",
       "      <td>AllPub</td>\n",
       "      <td>Inside</td>\n",
       "      <td>...</td>\n",
       "      <td>576</td>\n",
       "      <td>Gd</td>\n",
       "      <td>GdPrv</td>\n",
       "      <td>NaN</td>\n",
       "      <td>0</td>\n",
       "      <td>7</td>\n",
       "      <td>2008</td>\n",
       "      <td>WD</td>\n",
       "      <td>Normal</td>\n",
       "      <td>171000</td>\n",
       "    </tr>\n",
       "    <tr>\n",
       "      <th>1183</th>\n",
       "      <td>60</td>\n",
       "      <td>RL</td>\n",
       "      <td>160.0</td>\n",
       "      <td>15623</td>\n",
       "      <td>Pave</td>\n",
       "      <td>NaN</td>\n",
       "      <td>IR1</td>\n",
       "      <td>Lvl</td>\n",
       "      <td>AllPub</td>\n",
       "      <td>Corner</td>\n",
       "      <td>...</td>\n",
       "      <td>555</td>\n",
       "      <td>Ex</td>\n",
       "      <td>MnPrv</td>\n",
       "      <td>NaN</td>\n",
       "      <td>0</td>\n",
       "      <td>7</td>\n",
       "      <td>2007</td>\n",
       "      <td>WD</td>\n",
       "      <td>Abnorml</td>\n",
       "      <td>745000</td>\n",
       "    </tr>\n",
       "    <tr>\n",
       "      <th>1299</th>\n",
       "      <td>60</td>\n",
       "      <td>RL</td>\n",
       "      <td>313.0</td>\n",
       "      <td>63887</td>\n",
       "      <td>Pave</td>\n",
       "      <td>NaN</td>\n",
       "      <td>IR3</td>\n",
       "      <td>Bnk</td>\n",
       "      <td>AllPub</td>\n",
       "      <td>Corner</td>\n",
       "      <td>...</td>\n",
       "      <td>480</td>\n",
       "      <td>Gd</td>\n",
       "      <td>NaN</td>\n",
       "      <td>NaN</td>\n",
       "      <td>0</td>\n",
       "      <td>1</td>\n",
       "      <td>2008</td>\n",
       "      <td>New</td>\n",
       "      <td>Partial</td>\n",
       "      <td>160000</td>\n",
       "    </tr>\n",
       "    <tr>\n",
       "      <th>1387</th>\n",
       "      <td>60</td>\n",
       "      <td>RL</td>\n",
       "      <td>80.0</td>\n",
       "      <td>16692</td>\n",
       "      <td>Pave</td>\n",
       "      <td>NaN</td>\n",
       "      <td>IR1</td>\n",
       "      <td>Lvl</td>\n",
       "      <td>AllPub</td>\n",
       "      <td>Inside</td>\n",
       "      <td>...</td>\n",
       "      <td>519</td>\n",
       "      <td>Fa</td>\n",
       "      <td>MnPrv</td>\n",
       "      <td>TenC</td>\n",
       "      <td>2000</td>\n",
       "      <td>7</td>\n",
       "      <td>2006</td>\n",
       "      <td>WD</td>\n",
       "      <td>Normal</td>\n",
       "      <td>250000</td>\n",
       "    </tr>\n",
       "    <tr>\n",
       "      <th>1424</th>\n",
       "      <td>80</td>\n",
       "      <td>RL</td>\n",
       "      <td>NaN</td>\n",
       "      <td>19690</td>\n",
       "      <td>Pave</td>\n",
       "      <td>NaN</td>\n",
       "      <td>IR1</td>\n",
       "      <td>Lvl</td>\n",
       "      <td>AllPub</td>\n",
       "      <td>CulDSac</td>\n",
       "      <td>...</td>\n",
       "      <td>738</td>\n",
       "      <td>Gd</td>\n",
       "      <td>GdPrv</td>\n",
       "      <td>NaN</td>\n",
       "      <td>0</td>\n",
       "      <td>8</td>\n",
       "      <td>2006</td>\n",
       "      <td>WD</td>\n",
       "      <td>Alloca</td>\n",
       "      <td>274970</td>\n",
       "    </tr>\n",
       "  </tbody>\n",
       "</table>\n",
       "<p>7 rows × 80 columns</p>\n",
       "</div>"
      ],
      "text/plain": [
       "      MSSubClass MSZoning  LotFrontage  LotArea Street Alley LotShape  \\\n",
       "Id                                                                      \n",
       "198           75       RL        174.0    25419   Pave   NaN      Reg   \n",
       "811           20       RL         78.0    10140   Pave   NaN      Reg   \n",
       "1171          80       RL         76.0     9880   Pave   NaN      Reg   \n",
       "1183          60       RL        160.0    15623   Pave   NaN      IR1   \n",
       "1299          60       RL        313.0    63887   Pave   NaN      IR3   \n",
       "1387          60       RL         80.0    16692   Pave   NaN      IR1   \n",
       "1424          80       RL          NaN    19690   Pave   NaN      IR1   \n",
       "\n",
       "     LandContour Utilities LotConfig  ... PoolArea PoolQC  Fence MiscFeature  \\\n",
       "Id                                    ...                                      \n",
       "198          Lvl    AllPub    Corner  ...      512     Ex  GdPrv         NaN   \n",
       "811          Lvl    AllPub    Inside  ...      648     Fa  GdPrv         NaN   \n",
       "1171         Lvl    AllPub    Inside  ...      576     Gd  GdPrv         NaN   \n",
       "1183         Lvl    AllPub    Corner  ...      555     Ex  MnPrv         NaN   \n",
       "1299         Bnk    AllPub    Corner  ...      480     Gd    NaN         NaN   \n",
       "1387         Lvl    AllPub    Inside  ...      519     Fa  MnPrv        TenC   \n",
       "1424         Lvl    AllPub   CulDSac  ...      738     Gd  GdPrv         NaN   \n",
       "\n",
       "     MiscVal MoSold  YrSold  SaleType  SaleCondition  SalePrice  \n",
       "Id                                                               \n",
       "198        0      3    2006        WD        Abnorml     235000  \n",
       "811        0      1    2006        WD         Normal     181000  \n",
       "1171       0      7    2008        WD         Normal     171000  \n",
       "1183       0      7    2007        WD        Abnorml     745000  \n",
       "1299       0      1    2008       New        Partial     160000  \n",
       "1387    2000      7    2006        WD         Normal     250000  \n",
       "1424       0      8    2006        WD         Alloca     274970  \n",
       "\n",
       "[7 rows x 80 columns]"
      ]
     },
     "execution_count": 211,
     "metadata": {},
     "output_type": "execute_result"
    }
   ],
   "source": [
    "housing_sales_data[~housing_sales_data.PoolQC.isna()]"
   ]
  },
  {
   "cell_type": "code",
   "execution_count": 212,
   "id": "c73663b2",
   "metadata": {},
   "outputs": [],
   "source": [
    "# Data availability is < 1%. We do not have enough data of PoolQc, hence drop it.\n",
    "housing_sales_data.drop(['PoolQC'], axis=1, inplace=True)"
   ]
  },
  {
   "cell_type": "code",
   "execution_count": null,
   "id": "93ca42c4",
   "metadata": {},
   "outputs": [],
   "source": []
  },
  {
   "cell_type": "code",
   "execution_count": null,
   "id": "30058702",
   "metadata": {},
   "outputs": [],
   "source": []
  },
  {
   "cell_type": "markdown",
   "id": "47c39647",
   "metadata": {},
   "source": [
    "#### Sanity check"
   ]
  },
  {
   "cell_type": "code",
   "execution_count": 213,
   "id": "e2b6cdeb",
   "metadata": {},
   "outputs": [
    {
     "data": {
      "text/plain": [
       "Index([], dtype='object')"
      ]
     },
     "execution_count": 213,
     "metadata": {},
     "output_type": "execute_result"
    }
   ],
   "source": [
    "# check if there exists any column with all Nan\n",
    "housing_sales_data.columns[housing_sales_data.isna().all()]"
   ]
  },
  {
   "cell_type": "code",
   "execution_count": 214,
   "id": "2f4ec5f4",
   "metadata": {},
   "outputs": [
    {
     "data": {
      "text/plain": [
       "(1460, 79)"
      ]
     },
     "execution_count": 214,
     "metadata": {},
     "output_type": "execute_result"
    }
   ],
   "source": [
    "housing_sales_data.shape"
   ]
  },
  {
   "cell_type": "code",
   "execution_count": 215,
   "id": "641c9ca2",
   "metadata": {},
   "outputs": [
    {
     "name": "stdout",
     "output_type": "stream",
     "text": [
      "[]\n"
     ]
    }
   ],
   "source": [
    "# clean the data for safe checks like empty columns and empty rows...\n",
    "def sanity_clean_data(housing_sales_data):\n",
    "    #columns with all empty values to be removed\n",
    "    housing_sales_data.dropna(axis=1, how='all', inplace=True)\n",
    "    \n",
    "    #columns with all same values to be removed as they dont provide any insight\n",
    "    cols_nounique = [i for i in housing_sales_data.columns if housing_sales_data[i].nunique()==1]\n",
    "    housing_sales_data.drop(columns=cols_nounique, inplace=True, axis=1)\n",
    "    print(cols_nounique)\n",
    "    \n",
    "    #rows with all NAs to be removed\n",
    "    housing_sales_data.dropna(axis=0,how='all',inplace=True)\n",
    "    \n",
    "sanity_clean_data(housing_sales_data)    "
   ]
  },
  {
   "cell_type": "code",
   "execution_count": 216,
   "id": "c6cfc701",
   "metadata": {},
   "outputs": [
    {
     "data": {
      "text/plain": [
       "(1460, 79)"
      ]
     },
     "execution_count": 216,
     "metadata": {},
     "output_type": "execute_result"
    }
   ],
   "source": [
    "housing_sales_data.shape"
   ]
  },
  {
   "cell_type": "markdown",
   "id": "01bb462f",
   "metadata": {},
   "source": []
  },
  {
   "cell_type": "code",
   "execution_count": null,
   "id": "ed54910c",
   "metadata": {},
   "outputs": [],
   "source": []
  },
  {
   "cell_type": "code",
   "execution_count": null,
   "id": "cd5547ec",
   "metadata": {},
   "outputs": [],
   "source": []
  },
  {
   "cell_type": "markdown",
   "id": "92219d4b",
   "metadata": {},
   "source": [
    "#### Data Mapping from data dictionary & outlier analysis:"
   ]
  },
  {
   "cell_type": "code",
   "execution_count": 217,
   "id": "bfddd505",
   "metadata": {},
   "outputs": [],
   "source": [
    "# MSSubClass is a categorical but input is numberic. let's convert to string\n",
    "housing_sales_data.MSSubClass = housing_sales_data.MSSubClass.apply(lambda x: str(x))"
   ]
  },
  {
   "cell_type": "code",
   "execution_count": 218,
   "id": "af929ede",
   "metadata": {},
   "outputs": [
    {
     "data": {
      "text/plain": [
       "count     1460\n",
       "unique      15\n",
       "top         20\n",
       "freq       536\n",
       "Name: MSSubClass, dtype: object"
      ]
     },
     "execution_count": 218,
     "metadata": {},
     "output_type": "execute_result"
    }
   ],
   "source": [
    "housing_sales_data.MSSubClass.describe()"
   ]
  },
  {
   "cell_type": "code",
   "execution_count": 219,
   "id": "2b04429f",
   "metadata": {},
   "outputs": [
    {
     "data": {
      "text/plain": [
       "<AxesSubplot:>"
      ]
     },
     "execution_count": 219,
     "metadata": {},
     "output_type": "execute_result"
    },
    {
     "data": {
      "image/png": "[encoded data removed]",
      "text/plain": [
       "<Figure size 432x288 with 1 Axes>"
      ]
     },
     "metadata": {
      "needs_background": "light"
     },
     "output_type": "display_data"
    }
   ],
   "source": [
    "housing_sales_data.LotFrontage.plot.box()"
   ]
  },
  {
   "cell_type": "code",
   "execution_count": 220,
   "id": "a8cb56f3",
   "metadata": {},
   "outputs": [
    {
     "data": {
      "text/plain": [
       "<AxesSubplot:>"
      ]
     },
     "execution_count": 220,
     "metadata": {},
     "output_type": "execute_result"
    },
    {
     "data": {
      "image/png": "[encoded data removed]",
      "text/plain": [
       "<Figure size 432x288 with 1 Axes>"
      ]
     },
     "metadata": {
      "needs_background": "light"
     },
     "output_type": "display_data"
    }
   ],
   "source": [
    "housing_sales_data.SalePrice.plot.box()"
   ]
  },
  {
   "cell_type": "code",
   "execution_count": 221,
   "id": "952af564",
   "metadata": {},
   "outputs": [
    {
     "data": {
      "text/html": [
       "<div>\n",
       "<style scoped>\n",
       "    .dataframe tbody tr th:only-of-type {\n",
       "        vertical-align: middle;\n",
       "    }\n",
       "\n",
       "    .dataframe tbody tr th {\n",
       "        vertical-align: top;\n",
       "    }\n",
       "\n",
       "    .dataframe thead th {\n",
       "        text-align: right;\n",
       "    }\n",
       "</style>\n",
       "<table border=\"1\" class=\"dataframe\">\n",
       "  <thead>\n",
       "    <tr style=\"text-align: right;\">\n",
       "      <th></th>\n",
       "      <th>MSSubClass</th>\n",
       "      <th>MSZoning</th>\n",
       "      <th>LotFrontage</th>\n",
       "      <th>LotArea</th>\n",
       "      <th>Street</th>\n",
       "      <th>Alley</th>\n",
       "      <th>LotShape</th>\n",
       "      <th>LandContour</th>\n",
       "      <th>Utilities</th>\n",
       "      <th>LotConfig</th>\n",
       "      <th>...</th>\n",
       "      <th>ScreenPorch</th>\n",
       "      <th>PoolArea</th>\n",
       "      <th>Fence</th>\n",
       "      <th>MiscFeature</th>\n",
       "      <th>MiscVal</th>\n",
       "      <th>MoSold</th>\n",
       "      <th>YrSold</th>\n",
       "      <th>SaleType</th>\n",
       "      <th>SaleCondition</th>\n",
       "      <th>SalePrice</th>\n",
       "    </tr>\n",
       "    <tr>\n",
       "      <th>Id</th>\n",
       "      <th></th>\n",
       "      <th></th>\n",
       "      <th></th>\n",
       "      <th></th>\n",
       "      <th></th>\n",
       "      <th></th>\n",
       "      <th></th>\n",
       "      <th></th>\n",
       "      <th></th>\n",
       "      <th></th>\n",
       "      <th></th>\n",
       "      <th></th>\n",
       "      <th></th>\n",
       "      <th></th>\n",
       "      <th></th>\n",
       "      <th></th>\n",
       "      <th></th>\n",
       "      <th></th>\n",
       "      <th></th>\n",
       "      <th></th>\n",
       "      <th></th>\n",
       "    </tr>\n",
       "  </thead>\n",
       "  <tbody>\n",
       "    <tr>\n",
       "      <th>441</th>\n",
       "      <td>20</td>\n",
       "      <td>RL</td>\n",
       "      <td>105.0</td>\n",
       "      <td>15431</td>\n",
       "      <td>Pave</td>\n",
       "      <td>NaN</td>\n",
       "      <td>Reg</td>\n",
       "      <td>Lvl</td>\n",
       "      <td>AllPub</td>\n",
       "      <td>Inside</td>\n",
       "      <td>...</td>\n",
       "      <td>170</td>\n",
       "      <td>0</td>\n",
       "      <td>NaN</td>\n",
       "      <td>NaN</td>\n",
       "      <td>0</td>\n",
       "      <td>4</td>\n",
       "      <td>2009</td>\n",
       "      <td>WD</td>\n",
       "      <td>Normal</td>\n",
       "      <td>555000</td>\n",
       "    </tr>\n",
       "    <tr>\n",
       "      <th>692</th>\n",
       "      <td>60</td>\n",
       "      <td>RL</td>\n",
       "      <td>104.0</td>\n",
       "      <td>21535</td>\n",
       "      <td>Pave</td>\n",
       "      <td>NaN</td>\n",
       "      <td>IR1</td>\n",
       "      <td>Lvl</td>\n",
       "      <td>AllPub</td>\n",
       "      <td>Corner</td>\n",
       "      <td>...</td>\n",
       "      <td>0</td>\n",
       "      <td>0</td>\n",
       "      <td>NaN</td>\n",
       "      <td>NaN</td>\n",
       "      <td>0</td>\n",
       "      <td>1</td>\n",
       "      <td>2007</td>\n",
       "      <td>WD</td>\n",
       "      <td>Normal</td>\n",
       "      <td>755000</td>\n",
       "    </tr>\n",
       "    <tr>\n",
       "      <th>770</th>\n",
       "      <td>60</td>\n",
       "      <td>RL</td>\n",
       "      <td>47.0</td>\n",
       "      <td>53504</td>\n",
       "      <td>Pave</td>\n",
       "      <td>NaN</td>\n",
       "      <td>IR2</td>\n",
       "      <td>HLS</td>\n",
       "      <td>AllPub</td>\n",
       "      <td>CulDSac</td>\n",
       "      <td>...</td>\n",
       "      <td>210</td>\n",
       "      <td>0</td>\n",
       "      <td>NaN</td>\n",
       "      <td>NaN</td>\n",
       "      <td>0</td>\n",
       "      <td>6</td>\n",
       "      <td>2010</td>\n",
       "      <td>WD</td>\n",
       "      <td>Normal</td>\n",
       "      <td>538000</td>\n",
       "    </tr>\n",
       "    <tr>\n",
       "      <th>804</th>\n",
       "      <td>60</td>\n",
       "      <td>RL</td>\n",
       "      <td>107.0</td>\n",
       "      <td>13891</td>\n",
       "      <td>Pave</td>\n",
       "      <td>NaN</td>\n",
       "      <td>Reg</td>\n",
       "      <td>Lvl</td>\n",
       "      <td>AllPub</td>\n",
       "      <td>Inside</td>\n",
       "      <td>...</td>\n",
       "      <td>192</td>\n",
       "      <td>0</td>\n",
       "      <td>NaN</td>\n",
       "      <td>NaN</td>\n",
       "      <td>0</td>\n",
       "      <td>1</td>\n",
       "      <td>2009</td>\n",
       "      <td>New</td>\n",
       "      <td>Partial</td>\n",
       "      <td>582933</td>\n",
       "    </tr>\n",
       "    <tr>\n",
       "      <th>899</th>\n",
       "      <td>20</td>\n",
       "      <td>RL</td>\n",
       "      <td>100.0</td>\n",
       "      <td>12919</td>\n",
       "      <td>Pave</td>\n",
       "      <td>NaN</td>\n",
       "      <td>IR1</td>\n",
       "      <td>Lvl</td>\n",
       "      <td>AllPub</td>\n",
       "      <td>Inside</td>\n",
       "      <td>...</td>\n",
       "      <td>0</td>\n",
       "      <td>0</td>\n",
       "      <td>NaN</td>\n",
       "      <td>NaN</td>\n",
       "      <td>0</td>\n",
       "      <td>3</td>\n",
       "      <td>2010</td>\n",
       "      <td>New</td>\n",
       "      <td>Partial</td>\n",
       "      <td>611657</td>\n",
       "    </tr>\n",
       "    <tr>\n",
       "      <th>1047</th>\n",
       "      <td>60</td>\n",
       "      <td>RL</td>\n",
       "      <td>85.0</td>\n",
       "      <td>16056</td>\n",
       "      <td>Pave</td>\n",
       "      <td>NaN</td>\n",
       "      <td>IR1</td>\n",
       "      <td>Lvl</td>\n",
       "      <td>AllPub</td>\n",
       "      <td>Inside</td>\n",
       "      <td>...</td>\n",
       "      <td>0</td>\n",
       "      <td>0</td>\n",
       "      <td>NaN</td>\n",
       "      <td>NaN</td>\n",
       "      <td>0</td>\n",
       "      <td>7</td>\n",
       "      <td>2006</td>\n",
       "      <td>New</td>\n",
       "      <td>Partial</td>\n",
       "      <td>556581</td>\n",
       "    </tr>\n",
       "    <tr>\n",
       "      <th>1170</th>\n",
       "      <td>60</td>\n",
       "      <td>RL</td>\n",
       "      <td>118.0</td>\n",
       "      <td>35760</td>\n",
       "      <td>Pave</td>\n",
       "      <td>NaN</td>\n",
       "      <td>IR1</td>\n",
       "      <td>Lvl</td>\n",
       "      <td>AllPub</td>\n",
       "      <td>CulDSac</td>\n",
       "      <td>...</td>\n",
       "      <td>0</td>\n",
       "      <td>0</td>\n",
       "      <td>NaN</td>\n",
       "      <td>NaN</td>\n",
       "      <td>0</td>\n",
       "      <td>7</td>\n",
       "      <td>2006</td>\n",
       "      <td>WD</td>\n",
       "      <td>Normal</td>\n",
       "      <td>625000</td>\n",
       "    </tr>\n",
       "    <tr>\n",
       "      <th>1183</th>\n",
       "      <td>60</td>\n",
       "      <td>RL</td>\n",
       "      <td>160.0</td>\n",
       "      <td>15623</td>\n",
       "      <td>Pave</td>\n",
       "      <td>NaN</td>\n",
       "      <td>IR1</td>\n",
       "      <td>Lvl</td>\n",
       "      <td>AllPub</td>\n",
       "      <td>Corner</td>\n",
       "      <td>...</td>\n",
       "      <td>0</td>\n",
       "      <td>555</td>\n",
       "      <td>MnPrv</td>\n",
       "      <td>NaN</td>\n",
       "      <td>0</td>\n",
       "      <td>7</td>\n",
       "      <td>2007</td>\n",
       "      <td>WD</td>\n",
       "      <td>Abnorml</td>\n",
       "      <td>745000</td>\n",
       "    </tr>\n",
       "  </tbody>\n",
       "</table>\n",
       "<p>8 rows × 79 columns</p>\n",
       "</div>"
      ],
      "text/plain": [
       "     MSSubClass MSZoning  LotFrontage  LotArea Street Alley LotShape  \\\n",
       "Id                                                                     \n",
       "441          20       RL        105.0    15431   Pave   NaN      Reg   \n",
       "692          60       RL        104.0    21535   Pave   NaN      IR1   \n",
       "770          60       RL         47.0    53504   Pave   NaN      IR2   \n",
       "804          60       RL        107.0    13891   Pave   NaN      Reg   \n",
       "899          20       RL        100.0    12919   Pave   NaN      IR1   \n",
       "1047         60       RL         85.0    16056   Pave   NaN      IR1   \n",
       "1170         60       RL        118.0    35760   Pave   NaN      IR1   \n",
       "1183         60       RL        160.0    15623   Pave   NaN      IR1   \n",
       "\n",
       "     LandContour Utilities LotConfig  ... ScreenPorch PoolArea  Fence  \\\n",
       "Id                                    ...                               \n",
       "441          Lvl    AllPub    Inside  ...         170        0    NaN   \n",
       "692          Lvl    AllPub    Corner  ...           0        0    NaN   \n",
       "770          HLS    AllPub   CulDSac  ...         210        0    NaN   \n",
       "804          Lvl    AllPub    Inside  ...         192        0    NaN   \n",
       "899          Lvl    AllPub    Inside  ...           0        0    NaN   \n",
       "1047         Lvl    AllPub    Inside  ...           0        0    NaN   \n",
       "1170         Lvl    AllPub   CulDSac  ...           0        0    NaN   \n",
       "1183         Lvl    AllPub    Corner  ...           0      555  MnPrv   \n",
       "\n",
       "     MiscFeature MiscVal MoSold  YrSold  SaleType  SaleCondition  SalePrice  \n",
       "Id                                                                           \n",
       "441          NaN       0      4    2009        WD         Normal     555000  \n",
       "692          NaN       0      1    2007        WD         Normal     755000  \n",
       "770          NaN       0      6    2010        WD         Normal     538000  \n",
       "804          NaN       0      1    2009       New        Partial     582933  \n",
       "899          NaN       0      3    2010       New        Partial     611657  \n",
       "1047         NaN       0      7    2006       New        Partial     556581  \n",
       "1170         NaN       0      7    2006        WD         Normal     625000  \n",
       "1183         NaN       0      7    2007        WD        Abnorml     745000  \n",
       "\n",
       "[8 rows x 79 columns]"
      ]
     },
     "execution_count": 221,
     "metadata": {},
     "output_type": "execute_result"
    }
   ],
   "source": [
    "#looks like there are some outliers, distribution is little right tailed\n",
    "housing_sales_data[housing_sales_data.SalePrice > housing_sales_data.SalePrice.quantile(0.995)]"
   ]
  },
  {
   "cell_type": "code",
   "execution_count": 222,
   "id": "461dcae0",
   "metadata": {},
   "outputs": [],
   "source": [
    "# lets remove these outliers that are very evident\n",
    "housing_sales_data = housing_sales_data[housing_sales_data.SalePrice < housing_sales_data.SalePrice.quantile(0.995)]"
   ]
  },
  {
   "cell_type": "code",
   "execution_count": 223,
   "id": "b505374d",
   "metadata": {},
   "outputs": [
    {
     "data": {
      "text/plain": [
       "<AxesSubplot:>"
      ]
     },
     "execution_count": 223,
     "metadata": {},
     "output_type": "execute_result"
    },
    {
     "data": {
      "image/png": "[encoded data removed]",
      "text/plain": [
       "<Figure size 432x288 with 1 Axes>"
      ]
     },
     "metadata": {
      "needs_background": "light"
     },
     "output_type": "display_data"
    }
   ],
   "source": [
    "housing_sales_data.LotArea.plot.box()"
   ]
  },
  {
   "cell_type": "code",
   "execution_count": null,
   "id": "a4dbc4af",
   "metadata": {},
   "outputs": [],
   "source": []
  },
  {
   "cell_type": "code",
   "execution_count": 224,
   "id": "59ff3dd4",
   "metadata": {},
   "outputs": [
    {
     "data": {
      "text/plain": [
       "(1452, 79)"
      ]
     },
     "execution_count": 224,
     "metadata": {},
     "output_type": "execute_result"
    }
   ],
   "source": [
    "housing_sales_data.shape"
   ]
  },
  {
   "cell_type": "code",
   "execution_count": 225,
   "id": "710f4bcf",
   "metadata": {},
   "outputs": [
    {
     "data": {
      "text/plain": [
       "Shed    49\n",
       "Gar2     2\n",
       "Othr     2\n",
       "TenC     1\n",
       "Name: MiscFeature, dtype: int64"
      ]
     },
     "execution_count": 225,
     "metadata": {},
     "output_type": "execute_result"
    }
   ],
   "source": [
    "# NA for alley have a meaning. so can't be treated as NA. hence replace it with NotApplicable\n",
    "housing_sales_data.MiscFeature.value_counts()"
   ]
  },
  {
   "cell_type": "code",
   "execution_count": 226,
   "id": "3a7ad568",
   "metadata": {},
   "outputs": [],
   "source": [
    "housing_sales_data.Alley = housing_sales_data.Alley.fillna(value='NotApplicable')\n",
    "#same with MiscFeature\n",
    "housing_sales_data.MiscFeature = housing_sales_data.MiscFeature.fillna(value='NotApplicable')\n",
    "#same with Fence\n",
    "housing_sales_data.Fence = housing_sales_data.Fence.fillna(value='NotApplicable')"
   ]
  },
  {
   "cell_type": "code",
   "execution_count": 227,
   "id": "14a70fca",
   "metadata": {},
   "outputs": [
    {
     "data": {
      "text/plain": [
       "<AxesSubplot:>"
      ]
     },
     "execution_count": 227,
     "metadata": {},
     "output_type": "execute_result"
    },
    {
     "data": {
      "image/png": "[encoded data removed]",
      "text/plain": [
       "<Figure size 432x288 with 1 Axes>"
      ]
     },
     "metadata": {
      "needs_background": "light"
     },
     "output_type": "display_data"
    }
   ],
   "source": [
    "housing_sales_data.SalePrice.plot.box()"
   ]
  },
  {
   "cell_type": "code",
   "execution_count": 228,
   "id": "3a7e72d0",
   "metadata": {},
   "outputs": [],
   "source": [
    "# MSSubclass is numeric but it should be categorical.\n",
    "housing_sales_data['MSSubClass'] = housing_sales_data['MSSubClass'].apply(lambda x: str(x))\n"
   ]
  },
  {
   "cell_type": "code",
   "execution_count": 229,
   "id": "94021338",
   "metadata": {},
   "outputs": [
    {
     "data": {
      "text/plain": [
       "Reg    923\n",
       "IR1    479\n",
       "IR2     40\n",
       "IR3     10\n",
       "Name: LotShape, dtype: int64"
      ]
     },
     "execution_count": 229,
     "metadata": {},
     "output_type": "execute_result"
    }
   ],
   "source": [
    "housing_sales_data.LotShape.value_counts()"
   ]
  },
  {
   "cell_type": "code",
   "execution_count": 230,
   "id": "d6d8db4c",
   "metadata": {},
   "outputs": [],
   "source": [
    "# this is ordered categorical, we can map these to numeric.\n",
    "housing_sales_data.LotShape = housing_sales_data.LotShape.map({\n",
    "    \"Reg\": 4,\n",
    "    \"IR1\": 3,\n",
    "    \"IR2\": 2,\n",
    "    \"IR3\": 1\n",
    "})"
   ]
  },
  {
   "cell_type": "code",
   "execution_count": 231,
   "id": "803a18c5",
   "metadata": {},
   "outputs": [
    {
     "data": {
      "text/plain": [
       "AllPub    1451\n",
       "NoSeWa       1\n",
       "Name: Utilities, dtype: int64"
      ]
     },
     "execution_count": 231,
     "metadata": {},
     "output_type": "execute_result"
    }
   ],
   "source": [
    "housing_sales_data.Utilities.value_counts()"
   ]
  },
  {
   "cell_type": "code",
   "execution_count": 232,
   "id": "9af89e2d",
   "metadata": {},
   "outputs": [
    {
     "name": "stdout",
     "output_type": "stream",
     "text": [
      "[]\n"
     ]
    }
   ],
   "source": [
    "# we removed some outliers, lets do sanity clean again    \n",
    "sanity_clean_data(housing_sales_data) "
   ]
  },
  {
   "cell_type": "code",
   "execution_count": 233,
   "id": "583d42e8",
   "metadata": {},
   "outputs": [
    {
     "data": {
      "text/plain": [
       "Inside     1048\n",
       "Corner      261\n",
       "CulDSac      92\n",
       "FR2          47\n",
       "FR3           4\n",
       "Name: LotConfig, dtype: int64"
      ]
     },
     "execution_count": 233,
     "metadata": {},
     "output_type": "execute_result"
    }
   ],
   "source": [
    "housing_sales_data.LotConfig.value_counts()"
   ]
  },
  {
   "cell_type": "code",
   "execution_count": 234,
   "id": "8641d585",
   "metadata": {},
   "outputs": [],
   "source": [
    "# since condition 1, condition 2 are same, we can join them together and get dummies as combined \n",
    "housing_sales_data.Condition = housing_sales_data.Condition1 + ',' + housing_sales_data.Condition2\n",
    "housing_sales_data.Condition.apply(lambda x: str(x))\n",
    "housing_sales_data.drop(['Condition1', 'Condition2'], axis=1, inplace=True)"
   ]
  },
  {
   "cell_type": "code",
   "execution_count": 235,
   "id": "2161b667",
   "metadata": {},
   "outputs": [
    {
     "data": {
      "text/plain": [
       "dtype('O')"
      ]
     },
     "execution_count": 235,
     "metadata": {},
     "output_type": "execute_result"
    }
   ],
   "source": [
    "housing_sales_data.Condition.dtype"
   ]
  },
  {
   "cell_type": "code",
   "execution_count": 236,
   "id": "e9d174fc",
   "metadata": {},
   "outputs": [],
   "source": [
    "condition_dummies = housing_sales_data.Condition.str.get_dummies(sep=',').add_prefix('Condition_')\n",
    "housing_sales_data = pd.concat([housing_sales_data, condition_dummies], axis=1)"
   ]
  },
  {
   "cell_type": "code",
   "execution_count": null,
   "id": "e9463356",
   "metadata": {},
   "outputs": [],
   "source": []
  },
  {
   "cell_type": "code",
   "execution_count": 237,
   "id": "dbb79578",
   "metadata": {},
   "outputs": [
    {
     "data": {
      "text/plain": [
       "1Story    724\n",
       "2Story    439\n",
       "1.5Fin    154\n",
       "SLvl       65\n",
       "SFoyer     37\n",
       "1.5Unf     14\n",
       "2.5Unf     11\n",
       "2.5Fin      8\n",
       "Name: HouseStyle, dtype: int64"
      ]
     },
     "execution_count": 237,
     "metadata": {},
     "output_type": "execute_result"
    }
   ],
   "source": [
    "housing_sales_data.HouseStyle.value_counts()"
   ]
  },
  {
   "cell_type": "code",
   "execution_count": 238,
   "id": "c2bded5b",
   "metadata": {},
   "outputs": [],
   "source": [
    "#We can have a derived metric for number of floors based on HouseStyle and BldgType which can give almost 90% of data.\n",
    "# this could be a good derived metric\n",
    "housing_sales_data['HouseStyleFloorsMap'] = housing_sales_data.HouseStyle.map({\n",
    "    \"1Story\": 1,\n",
    "    \"1.5Fin\": 1.5,\n",
    "    \"1.5Unf\": 1.5,\n",
    "    \"2Story\": 2,\n",
    "    \"2.5Fin\": 2.5,\n",
    "    \"2.5Unf\": 2.5,\n",
    "    \"SFoyer\": 0,\n",
    "    \"SLvl\":\t0\n",
    "})\n",
    "housing_sales_data['BldgTypeFloorsMap'] = housing_sales_data.BldgType.map(\n",
    "    {\n",
    "    \"1Fam\": 1,\n",
    "    \"2fmCon\": 1.5,\t\n",
    "    \"Duplex\": 2,\n",
    "    \"Twnhs\":3,\n",
    "    \"TwnhsE\": 3\n",
    "    }\n",
    ")\n",
    "housing_sales_data['Floors'] = housing_sales_data[['HouseStyleFloorsMap','BldgTypeFloorsMap']].apply(lambda x: x['HouseStyleFloorsMap'] if x['HouseStyleFloorsMap']>0 else x['BldgTypeFloorsMap'], axis=1)\n"
   ]
  },
  {
   "cell_type": "code",
   "execution_count": 239,
   "id": "ae17c584",
   "metadata": {},
   "outputs": [
    {
     "data": {
      "text/plain": [
       "1.0    804\n",
       "2.0    449\n",
       "1.5    169\n",
       "2.5     19\n",
       "3.0     11\n",
       "Name: Floors, dtype: int64"
      ]
     },
     "execution_count": 239,
     "metadata": {},
     "output_type": "execute_result"
    }
   ],
   "source": [
    "housing_sales_data.Floors.value_counts()"
   ]
  },
  {
   "cell_type": "code",
   "execution_count": 240,
   "id": "c9ac9cc9",
   "metadata": {},
   "outputs": [
    {
     "data": {
      "text/plain": [
       "Index(['MSSubClass', 'MSZoning', 'LotFrontage', 'LotArea', 'Street', 'Alley',\n",
       "       'LotShape', 'LandContour', 'Utilities', 'LotConfig', 'LandSlope',\n",
       "       'Neighborhood', 'BldgType', 'HouseStyle', 'OverallQual', 'OverallCond',\n",
       "       'YearBuilt', 'YearRemodAdd', 'RoofStyle', 'RoofMatl', 'Exterior1st',\n",
       "       'Exterior2nd', 'MasVnrType', 'MasVnrArea', 'ExterQual', 'ExterCond',\n",
       "       'Foundation', 'BsmtQual', 'BsmtCond', 'BsmtExposure', 'BsmtFinType1',\n",
       "       'BsmtFinSF1', 'BsmtFinType2', 'BsmtFinSF2', 'BsmtUnfSF', 'TotalBsmtSF',\n",
       "       'Heating', 'HeatingQC', 'CentralAir', 'Electrical', '1stFlrSF',\n",
       "       '2ndFlrSF', 'LowQualFinSF', 'GrLivArea', 'BsmtFullBath', 'BsmtHalfBath',\n",
       "       'FullBath', 'HalfBath', 'BedroomAbvGr', 'KitchenAbvGr', 'KitchenQual',\n",
       "       'TotRmsAbvGrd', 'Functional', 'Fireplaces', 'FireplaceQu', 'GarageType',\n",
       "       'GarageYrBlt', 'GarageFinish', 'GarageCars', 'GarageArea', 'GarageQual',\n",
       "       'GarageCond', 'PavedDrive', 'WoodDeckSF', 'OpenPorchSF',\n",
       "       'EnclosedPorch', '3SsnPorch', 'ScreenPorch', 'PoolArea', 'Fence',\n",
       "       'MiscFeature', 'MiscVal', 'MoSold', 'YrSold', 'SaleType',\n",
       "       'SaleCondition', 'SalePrice', 'Condition_Artery', 'Condition_Feedr',\n",
       "       'Condition_Norm', 'Condition_PosA', 'Condition_PosN', 'Condition_RRAe',\n",
       "       'Condition_RRAn', 'Condition_RRNe', 'Condition_RRNn',\n",
       "       'HouseStyleFloorsMap', 'BldgTypeFloorsMap', 'Floors'],\n",
       "      dtype='object')"
      ]
     },
     "execution_count": 240,
     "metadata": {},
     "output_type": "execute_result"
    }
   ],
   "source": [
    "housing_sales_data.columns"
   ]
  },
  {
   "cell_type": "code",
   "execution_count": 241,
   "id": "c32268f4",
   "metadata": {},
   "outputs": [
    {
     "data": {
      "text/plain": [
       "<AxesSubplot:ylabel='Frequency'>"
      ]
     },
     "execution_count": 241,
     "metadata": {},
     "output_type": "execute_result"
    },
    {
     "data": {
      "image/png": "[encoded data removed]",
      "text/plain": [
       "<Figure size 432x288 with 1 Axes>"
      ]
     },
     "metadata": {
      "needs_background": "light"
     },
     "output_type": "display_data"
    }
   ],
   "source": [
    "# We can also derive age of house, age since renovation.\n",
    "housing_sales_data['Age'] = housing_sales_data.YrSold - housing_sales_data.YearBuilt\n",
    "housing_sales_data['Age'].plot.hist()"
   ]
  },
  {
   "cell_type": "code",
   "execution_count": 242,
   "id": "45d9587e",
   "metadata": {},
   "outputs": [
    {
     "data": {
      "text/plain": [
       "<AxesSubplot:ylabel='Frequency'>"
      ]
     },
     "execution_count": 242,
     "metadata": {},
     "output_type": "execute_result"
    },
    {
     "data": {
      "image/png": "[encoded data removed]",
      "text/plain": [
       "<Figure size 432x288 with 1 Axes>"
      ]
     },
     "metadata": {
      "needs_background": "light"
     },
     "output_type": "display_data"
    }
   ],
   "source": [
    "\n",
    "housing_sales_data['AgeRemod'] = housing_sales_data.YrSold - housing_sales_data.YearRemodAdd\n",
    "housing_sales_data['AgeRemod'].plot.hist()"
   ]
  },
  {
   "cell_type": "code",
   "execution_count": 243,
   "id": "da0571f0",
   "metadata": {},
   "outputs": [
    {
     "data": {
      "text/plain": [
       "VinylSd    512\n",
       "MetalSd    220\n",
       "HdBoard    220\n",
       "Wd Sdng    205\n",
       "Plywood    108\n",
       "CemntBd     59\n",
       "BrkFace     50\n",
       "WdShing     26\n",
       "Stucco      25\n",
       "AsbShng     20\n",
       "BrkComm      2\n",
       "Stone        2\n",
       "AsphShn      1\n",
       "ImStucc      1\n",
       "CBlock       1\n",
       "Name: Exterior1st, dtype: int64"
      ]
     },
     "execution_count": 243,
     "metadata": {},
     "output_type": "execute_result"
    }
   ],
   "source": [
    "housing_sales_data.Exterior1st.value_counts()"
   ]
  },
  {
   "cell_type": "code",
   "execution_count": 244,
   "id": "6b220add",
   "metadata": {},
   "outputs": [
    {
     "data": {
      "text/plain": [
       "VinylSd    501\n",
       "MetalSd    214\n",
       "HdBoard    205\n",
       "Wd Sdng    197\n",
       "Plywood    142\n",
       "CmentBd     59\n",
       "Wd Shng     37\n",
       "Stucco      26\n",
       "BrkFace     25\n",
       "AsbShng     20\n",
       "ImStucc      9\n",
       "Brk Cmn      7\n",
       "Stone        5\n",
       "AsphShn      3\n",
       "Other        1\n",
       "CBlock       1\n",
       "Name: Exterior2nd, dtype: int64"
      ]
     },
     "execution_count": 244,
     "metadata": {},
     "output_type": "execute_result"
    }
   ],
   "source": [
    "housing_sales_data.Exterior2nd.value_counts()"
   ]
  },
  {
   "cell_type": "code",
   "execution_count": null,
   "id": "694a9470",
   "metadata": {},
   "outputs": [],
   "source": []
  },
  {
   "cell_type": "code",
   "execution_count": 245,
   "id": "97000048",
   "metadata": {},
   "outputs": [],
   "source": [
    "#BrkComm and Brk Cmn are same so refactor\n",
    "# similarly WdSHng and Cment Bd are mistyped\n",
    "housing_sales_data.Exterior2nd = housing_sales_data.Exterior2nd.apply(lambda x: \"BrkComm\" if x=='Brk Cmn' else x)\n",
    "housing_sales_data.Exterior2nd = housing_sales_data.Exterior2nd.apply(lambda x: \"WdShing\" if x==\"Wd Shng\" else x)\n",
    "housing_sales_data.Exterior2nd = housing_sales_data.Exterior2nd.apply(lambda x: \"CemntBd\" if x=='CmentBd' else x)\n",
    "\n",
    "# Exterior1st and Exterior2nd must be merged together and then dummies should be created.\n",
    "housing_sales_data.Exterior = housing_sales_data.Exterior1st + ',' + housing_sales_data.Exterior2nd\n",
    "housing_sales_data.Exterior.apply(lambda x: str(x).lower())\n",
    "housing_sales_data.drop(['Exterior1st', 'Exterior2nd'], axis=1, inplace=True)\n",
    "exterior_dummies = housing_sales_data.Exterior.str.get_dummies(sep=',').add_prefix('Exterior_')\n",
    "housing_sales_data = pd.concat([housing_sales_data, exterior_dummies], axis=1)"
   ]
  },
  {
   "cell_type": "code",
   "execution_count": 246,
   "id": "218d8373",
   "metadata": {},
   "outputs": [
    {
     "data": {
      "text/plain": [
       "Index(['MSSubClass', 'MSZoning', 'LotFrontage', 'LotArea', 'Street', 'Alley',\n",
       "       'LotShape', 'LandContour', 'Utilities', 'LotConfig',\n",
       "       ...\n",
       "       'Exterior_HdBoard', 'Exterior_ImStucc', 'Exterior_MetalSd',\n",
       "       'Exterior_Other', 'Exterior_Plywood', 'Exterior_Stone',\n",
       "       'Exterior_Stucco', 'Exterior_VinylSd', 'Exterior_Wd Sdng',\n",
       "       'Exterior_WdShing'],\n",
       "      dtype='object', length=105)"
      ]
     },
     "execution_count": 246,
     "metadata": {},
     "output_type": "execute_result"
    }
   ],
   "source": [
    "housing_sales_data.columns"
   ]
  },
  {
   "cell_type": "code",
   "execution_count": 247,
   "id": "90fd4838",
   "metadata": {},
   "outputs": [],
   "source": [
    "#since ExterQual, ExterCond is ordered categorical, we can convert to numeric\n",
    "# NA -> not applicable -> this happens when feature is not avaiable. hence giving zero weight for NA\n",
    "ordered_quality_map = {\n",
    "     \"Ex\": 5,\n",
    "     \"Gd\": 4,\n",
    "     \"TA\": 3,\n",
    "     \"Fa\": 2,\n",
    "     \"Po\": 1,\n",
    "     \"NA\": 0\n",
    "}\n",
    "housing_sales_data.ExterQual = housing_sales_data.ExterQual.map(ordered_quality_map).fillna(0)\n",
    "housing_sales_data.ExterCond = housing_sales_data.ExterCond.map(ordered_quality_map).fillna(0)"
   ]
  },
  {
   "cell_type": "code",
   "execution_count": 248,
   "id": "8b3e69dd",
   "metadata": {},
   "outputs": [
    {
     "data": {
      "text/plain": [
       "Gd    375\n",
       "TA    311\n",
       "Fa     33\n",
       "Ex     23\n",
       "Po     20\n",
       "Name: FireplaceQu, dtype: int64"
      ]
     },
     "execution_count": 248,
     "metadata": {},
     "output_type": "execute_result"
    }
   ],
   "source": [
    "housing_sales_data.FireplaceQu.value_counts()"
   ]
  },
  {
   "cell_type": "code",
   "execution_count": 249,
   "id": "f1abfdb8",
   "metadata": {},
   "outputs": [],
   "source": [
    "#similarly do it for other quality based columns\n",
    "#BsmtQual, BsmtCond\n",
    "housing_sales_data.BsmtQual = housing_sales_data.BsmtQual.map(ordered_quality_map).fillna(0)\n",
    "housing_sales_data.BsmtCond = housing_sales_data.BsmtCond.map(ordered_quality_map).fillna(0)\n",
    "\n",
    "#HeatingQC\n",
    "housing_sales_data.HeatingQC = housing_sales_data.HeatingQC.map(ordered_quality_map).fillna(0)\n",
    "\n",
    "#KitchenQual, FireplaceQu\n",
    "housing_sales_data.KitchenQual = housing_sales_data.KitchenQual.map(ordered_quality_map).fillna(0)\n",
    "housing_sales_data.FireplaceQu = housing_sales_data.FireplaceQu.map(ordered_quality_map).fillna(0)\n",
    "\n",
    "#GarageQual, GarageCond\n",
    "housing_sales_data.GarageQual = housing_sales_data.GarageQual.map(ordered_quality_map).fillna(0)\n",
    "housing_sales_data.GarageCond = housing_sales_data.GarageCond.map(ordered_quality_map).fillna(0)\n"
   ]
  },
  {
   "cell_type": "code",
   "execution_count": null,
   "id": "e88edecf",
   "metadata": {},
   "outputs": [],
   "source": []
  },
  {
   "cell_type": "code",
   "execution_count": 250,
   "id": "1d92d567",
   "metadata": {},
   "outputs": [],
   "source": [
    "# BsmtFinType1, BsmtFinType2\n",
    "bsmt_finished_qual_map = {\n",
    "    \"GLQ\": 6,\n",
    "    \"ALQ\": 5,\n",
    "    \"BLQ\": 4,\n",
    "    \"Rec\": 3,\n",
    "    \"LwQ\": 2,\n",
    "    \"Unf\": 1,\n",
    "    \"NA\": 0\n",
    "}\n",
    "housing_sales_data.BsmtFinType1 = housing_sales_data.BsmtFinType1.map(bsmt_finished_qual_map).fillna(0)\n",
    "housing_sales_data.BsmtFinType2 = housing_sales_data.BsmtFinType2.map(bsmt_finished_qual_map).fillna(0)\n",
    "\n",
    "# Functional: Home functionality (Assume typical unless deductions are warranted)\n",
    "functional_map = {\n",
    "    \"Typ\": 8,\n",
    "    \"Min1\":7,\n",
    "    \"Min2\":6,\n",
    "    \"Mod\": 5,\n",
    "    \"Maj1\":4,\n",
    "    \"Maj2\":3,\n",
    "    \"Sev\": 2,\n",
    "    \"Sal\": 1,\n",
    "}\n",
    "housing_sales_data.Functional = housing_sales_data.Functional.map(functional_map).fillna(0)\n",
    "\n",
    "#GarageFinish: Interior finish of the garage\n",
    "garage_finish_map = {\n",
    "   \"Fin\": 3,\n",
    "   \"RFn\": 2,\n",
    "   \"Unf\": 1,\n",
    "   \"NA\": 0\n",
    "}\n",
    "housing_sales_data.GarageFinish = housing_sales_data.GarageFinish.map(garage_finish_map).fillna(0)"
   ]
  },
  {
   "cell_type": "code",
   "execution_count": 251,
   "id": "e463d701",
   "metadata": {},
   "outputs": [],
   "source": [
    "colnames_numerics_only = housing_sales_data.select_dtypes(include=np.number).columns.tolist()"
   ]
  },
  {
   "cell_type": "code",
   "execution_count": 252,
   "id": "2ab9cc5a",
   "metadata": {},
   "outputs": [
    {
     "data": {
      "text/plain": [
       "['LotFrontage',\n",
       " 'LotArea',\n",
       " 'LotShape',\n",
       " 'OverallQual',\n",
       " 'OverallCond',\n",
       " 'YearBuilt',\n",
       " 'YearRemodAdd',\n",
       " 'MasVnrArea',\n",
       " 'ExterQual',\n",
       " 'ExterCond',\n",
       " 'BsmtQual',\n",
       " 'BsmtCond',\n",
       " 'BsmtFinType1',\n",
       " 'BsmtFinSF1',\n",
       " 'BsmtFinType2',\n",
       " 'BsmtFinSF2',\n",
       " 'BsmtUnfSF',\n",
       " 'TotalBsmtSF',\n",
       " 'HeatingQC',\n",
       " '1stFlrSF',\n",
       " '2ndFlrSF',\n",
       " 'LowQualFinSF',\n",
       " 'GrLivArea',\n",
       " 'BsmtFullBath',\n",
       " 'BsmtHalfBath',\n",
       " 'FullBath',\n",
       " 'HalfBath',\n",
       " 'BedroomAbvGr',\n",
       " 'KitchenAbvGr',\n",
       " 'KitchenQual',\n",
       " 'TotRmsAbvGrd',\n",
       " 'Functional',\n",
       " 'Fireplaces',\n",
       " 'FireplaceQu',\n",
       " 'GarageYrBlt',\n",
       " 'GarageFinish',\n",
       " 'GarageCars',\n",
       " 'GarageArea',\n",
       " 'GarageQual',\n",
       " 'GarageCond',\n",
       " 'WoodDeckSF',\n",
       " 'OpenPorchSF',\n",
       " 'EnclosedPorch',\n",
       " '3SsnPorch',\n",
       " 'ScreenPorch',\n",
       " 'PoolArea',\n",
       " 'MiscVal',\n",
       " 'MoSold',\n",
       " 'YrSold',\n",
       " 'SalePrice',\n",
       " 'Condition_Artery',\n",
       " 'Condition_Feedr',\n",
       " 'Condition_Norm',\n",
       " 'Condition_PosA',\n",
       " 'Condition_PosN',\n",
       " 'Condition_RRAe',\n",
       " 'Condition_RRAn',\n",
       " 'Condition_RRNe',\n",
       " 'Condition_RRNn',\n",
       " 'HouseStyleFloorsMap',\n",
       " 'BldgTypeFloorsMap',\n",
       " 'Floors',\n",
       " 'Age',\n",
       " 'AgeRemod',\n",
       " 'Exterior_AsbShng',\n",
       " 'Exterior_AsphShn',\n",
       " 'Exterior_BrkComm',\n",
       " 'Exterior_BrkFace',\n",
       " 'Exterior_CBlock',\n",
       " 'Exterior_CemntBd',\n",
       " 'Exterior_HdBoard',\n",
       " 'Exterior_ImStucc',\n",
       " 'Exterior_MetalSd',\n",
       " 'Exterior_Other',\n",
       " 'Exterior_Plywood',\n",
       " 'Exterior_Stone',\n",
       " 'Exterior_Stucco',\n",
       " 'Exterior_VinylSd',\n",
       " 'Exterior_Wd Sdng',\n",
       " 'Exterior_WdShing']"
      ]
     },
     "execution_count": 252,
     "metadata": {},
     "output_type": "execute_result"
    }
   ],
   "source": [
    "colnames_numerics_only"
   ]
  },
  {
   "cell_type": "code",
   "execution_count": 253,
   "id": "e2725277",
   "metadata": {},
   "outputs": [
    {
     "data": {
      "text/plain": [
       "['MSSubClass',\n",
       " 'MSZoning',\n",
       " 'Street',\n",
       " 'Alley',\n",
       " 'LandContour',\n",
       " 'Utilities',\n",
       " 'LotConfig',\n",
       " 'LandSlope',\n",
       " 'Neighborhood',\n",
       " 'BldgType',\n",
       " 'HouseStyle',\n",
       " 'RoofStyle',\n",
       " 'RoofMatl',\n",
       " 'MasVnrType',\n",
       " 'Foundation',\n",
       " 'BsmtExposure',\n",
       " 'Heating',\n",
       " 'CentralAir',\n",
       " 'Electrical',\n",
       " 'GarageType',\n",
       " 'PavedDrive',\n",
       " 'Fence',\n",
       " 'MiscFeature',\n",
       " 'SaleType',\n",
       " 'SaleCondition']"
      ]
     },
     "execution_count": 253,
     "metadata": {},
     "output_type": "execute_result"
    }
   ],
   "source": [
    "colnames_non_numerics_only = housing_sales_data.select_dtypes(include=np.object).columns.tolist()\n",
    "colnames_non_numerics_only"
   ]
  },
  {
   "cell_type": "code",
   "execution_count": null,
   "id": "555e057a",
   "metadata": {},
   "outputs": [],
   "source": []
  },
  {
   "cell_type": "code",
   "execution_count": 254,
   "id": "ce2240a4",
   "metadata": {},
   "outputs": [],
   "source": [
    "for colName in colnames_non_numerics_only:\n",
    "    col_specific_dummies = pd.get_dummies(housing_sales_data[colName],drop_first=True).add_prefix(colName+\"_\")\n",
    "    housing_sales_data = pd.concat([housing_sales_data, col_specific_dummies], axis=1)\n",
    "    housing_sales_data.drop([colName], axis=1, inplace=True)"
   ]
  },
  {
   "cell_type": "code",
   "execution_count": 255,
   "id": "7d1179ba",
   "metadata": {},
   "outputs": [
    {
     "data": {
      "text/plain": [
       "['LotFrontage',\n",
       " 'LotArea',\n",
       " 'LotShape',\n",
       " 'OverallQual',\n",
       " 'OverallCond',\n",
       " 'YearBuilt',\n",
       " 'YearRemodAdd',\n",
       " 'MasVnrArea',\n",
       " 'ExterQual',\n",
       " 'ExterCond',\n",
       " 'BsmtQual',\n",
       " 'BsmtCond',\n",
       " 'BsmtFinType1',\n",
       " 'BsmtFinSF1',\n",
       " 'BsmtFinType2',\n",
       " 'BsmtFinSF2',\n",
       " 'BsmtUnfSF',\n",
       " 'TotalBsmtSF',\n",
       " 'HeatingQC',\n",
       " '1stFlrSF',\n",
       " '2ndFlrSF',\n",
       " 'LowQualFinSF',\n",
       " 'GrLivArea',\n",
       " 'BsmtFullBath',\n",
       " 'BsmtHalfBath',\n",
       " 'FullBath',\n",
       " 'HalfBath',\n",
       " 'BedroomAbvGr',\n",
       " 'KitchenAbvGr',\n",
       " 'KitchenQual',\n",
       " 'TotRmsAbvGrd',\n",
       " 'Functional',\n",
       " 'Fireplaces',\n",
       " 'FireplaceQu',\n",
       " 'GarageYrBlt',\n",
       " 'GarageFinish',\n",
       " 'GarageCars',\n",
       " 'GarageArea',\n",
       " 'GarageQual',\n",
       " 'GarageCond',\n",
       " 'WoodDeckSF',\n",
       " 'OpenPorchSF',\n",
       " 'EnclosedPorch',\n",
       " '3SsnPorch',\n",
       " 'ScreenPorch',\n",
       " 'PoolArea',\n",
       " 'MiscVal',\n",
       " 'MoSold',\n",
       " 'YrSold',\n",
       " 'SalePrice',\n",
       " 'Condition_Artery',\n",
       " 'Condition_Feedr',\n",
       " 'Condition_Norm',\n",
       " 'Condition_PosA',\n",
       " 'Condition_PosN',\n",
       " 'Condition_RRAe',\n",
       " 'Condition_RRAn',\n",
       " 'Condition_RRNe',\n",
       " 'Condition_RRNn',\n",
       " 'HouseStyleFloorsMap',\n",
       " 'BldgTypeFloorsMap',\n",
       " 'Floors',\n",
       " 'Age',\n",
       " 'AgeRemod',\n",
       " 'Exterior_AsbShng',\n",
       " 'Exterior_AsphShn',\n",
       " 'Exterior_BrkComm',\n",
       " 'Exterior_BrkFace',\n",
       " 'Exterior_CBlock',\n",
       " 'Exterior_CemntBd',\n",
       " 'Exterior_HdBoard',\n",
       " 'Exterior_ImStucc',\n",
       " 'Exterior_MetalSd',\n",
       " 'Exterior_Other',\n",
       " 'Exterior_Plywood',\n",
       " 'Exterior_Stone',\n",
       " 'Exterior_Stucco',\n",
       " 'Exterior_VinylSd',\n",
       " 'Exterior_Wd Sdng',\n",
       " 'Exterior_WdShing',\n",
       " 'MSSubClass_160',\n",
       " 'MSSubClass_180',\n",
       " 'MSSubClass_190',\n",
       " 'MSSubClass_20',\n",
       " 'MSSubClass_30',\n",
       " 'MSSubClass_40',\n",
       " 'MSSubClass_45',\n",
       " 'MSSubClass_50',\n",
       " 'MSSubClass_60',\n",
       " 'MSSubClass_70',\n",
       " 'MSSubClass_75',\n",
       " 'MSSubClass_80',\n",
       " 'MSSubClass_85',\n",
       " 'MSSubClass_90',\n",
       " 'MSZoning_FV',\n",
       " 'MSZoning_RH',\n",
       " 'MSZoning_RL',\n",
       " 'MSZoning_RM',\n",
       " 'Street_Pave',\n",
       " 'Alley_NotApplicable',\n",
       " 'Alley_Pave',\n",
       " 'LandContour_HLS',\n",
       " 'LandContour_Low',\n",
       " 'LandContour_Lvl',\n",
       " 'Utilities_NoSeWa',\n",
       " 'LotConfig_CulDSac',\n",
       " 'LotConfig_FR2',\n",
       " 'LotConfig_FR3',\n",
       " 'LotConfig_Inside',\n",
       " 'LandSlope_Mod',\n",
       " 'LandSlope_Sev',\n",
       " 'Neighborhood_Blueste',\n",
       " 'Neighborhood_BrDale',\n",
       " 'Neighborhood_BrkSide',\n",
       " 'Neighborhood_ClearCr',\n",
       " 'Neighborhood_CollgCr',\n",
       " 'Neighborhood_Crawfor',\n",
       " 'Neighborhood_Edwards',\n",
       " 'Neighborhood_Gilbert',\n",
       " 'Neighborhood_IDOTRR',\n",
       " 'Neighborhood_MeadowV',\n",
       " 'Neighborhood_Mitchel',\n",
       " 'Neighborhood_NAmes',\n",
       " 'Neighborhood_NPkVill',\n",
       " 'Neighborhood_NWAmes',\n",
       " 'Neighborhood_NoRidge',\n",
       " 'Neighborhood_NridgHt',\n",
       " 'Neighborhood_OldTown',\n",
       " 'Neighborhood_SWISU',\n",
       " 'Neighborhood_Sawyer',\n",
       " 'Neighborhood_SawyerW',\n",
       " 'Neighborhood_Somerst',\n",
       " 'Neighborhood_StoneBr',\n",
       " 'Neighborhood_Timber',\n",
       " 'Neighborhood_Veenker',\n",
       " 'BldgType_2fmCon',\n",
       " 'BldgType_Duplex',\n",
       " 'BldgType_Twnhs',\n",
       " 'BldgType_TwnhsE',\n",
       " 'HouseStyle_1.5Unf',\n",
       " 'HouseStyle_1Story',\n",
       " 'HouseStyle_2.5Fin',\n",
       " 'HouseStyle_2.5Unf',\n",
       " 'HouseStyle_2Story',\n",
       " 'HouseStyle_SFoyer',\n",
       " 'HouseStyle_SLvl',\n",
       " 'RoofStyle_Gable',\n",
       " 'RoofStyle_Gambrel',\n",
       " 'RoofStyle_Hip',\n",
       " 'RoofStyle_Mansard',\n",
       " 'RoofStyle_Shed',\n",
       " 'RoofMatl_CompShg',\n",
       " 'RoofMatl_Membran',\n",
       " 'RoofMatl_Metal',\n",
       " 'RoofMatl_Roll',\n",
       " 'RoofMatl_Tar&Grv',\n",
       " 'RoofMatl_WdShake',\n",
       " 'RoofMatl_WdShngl',\n",
       " 'MasVnrType_BrkFace',\n",
       " 'MasVnrType_None',\n",
       " 'MasVnrType_Stone',\n",
       " 'Foundation_CBlock',\n",
       " 'Foundation_PConc',\n",
       " 'Foundation_Slab',\n",
       " 'Foundation_Stone',\n",
       " 'Foundation_Wood',\n",
       " 'BsmtExposure_Gd',\n",
       " 'BsmtExposure_Mn',\n",
       " 'BsmtExposure_No',\n",
       " 'Heating_GasA',\n",
       " 'Heating_GasW',\n",
       " 'Heating_Grav',\n",
       " 'Heating_OthW',\n",
       " 'Heating_Wall',\n",
       " 'CentralAir_Y',\n",
       " 'Electrical_FuseF',\n",
       " 'Electrical_FuseP',\n",
       " 'Electrical_Mix',\n",
       " 'Electrical_SBrkr',\n",
       " 'GarageType_Attchd',\n",
       " 'GarageType_Basment',\n",
       " 'GarageType_BuiltIn',\n",
       " 'GarageType_CarPort',\n",
       " 'GarageType_Detchd',\n",
       " 'PavedDrive_P',\n",
       " 'PavedDrive_Y',\n",
       " 'Fence_GdWo',\n",
       " 'Fence_MnPrv',\n",
       " 'Fence_MnWw',\n",
       " 'Fence_NotApplicable',\n",
       " 'MiscFeature_NotApplicable',\n",
       " 'MiscFeature_Othr',\n",
       " 'MiscFeature_Shed',\n",
       " 'MiscFeature_TenC',\n",
       " 'SaleType_CWD',\n",
       " 'SaleType_Con',\n",
       " 'SaleType_ConLD',\n",
       " 'SaleType_ConLI',\n",
       " 'SaleType_ConLw',\n",
       " 'SaleType_New',\n",
       " 'SaleType_Oth',\n",
       " 'SaleType_WD',\n",
       " 'SaleCondition_AdjLand',\n",
       " 'SaleCondition_Alloca',\n",
       " 'SaleCondition_Family',\n",
       " 'SaleCondition_Normal',\n",
       " 'SaleCondition_Partial']"
      ]
     },
     "execution_count": 255,
     "metadata": {},
     "output_type": "execute_result"
    }
   ],
   "source": [
    "housing_sales_data.columns.tolist()"
   ]
  },
  {
   "cell_type": "code",
   "execution_count": 256,
   "id": "148bf61d",
   "metadata": {},
   "outputs": [],
   "source": [
    "colnames_numerics_only = housing_sales_data.select_dtypes(include=np.number).columns.tolist()"
   ]
  },
  {
   "cell_type": "code",
   "execution_count": 257,
   "id": "7546b955",
   "metadata": {},
   "outputs": [
    {
     "data": {
      "text/plain": [
       "['LotFrontage',\n",
       " 'LotArea',\n",
       " 'LotShape',\n",
       " 'OverallQual',\n",
       " 'OverallCond',\n",
       " 'YearBuilt',\n",
       " 'YearRemodAdd',\n",
       " 'MasVnrArea',\n",
       " 'ExterQual',\n",
       " 'ExterCond',\n",
       " 'BsmtQual',\n",
       " 'BsmtCond',\n",
       " 'BsmtFinType1',\n",
       " 'BsmtFinSF1',\n",
       " 'BsmtFinType2',\n",
       " 'BsmtFinSF2',\n",
       " 'BsmtUnfSF',\n",
       " 'TotalBsmtSF',\n",
       " 'HeatingQC',\n",
       " '1stFlrSF',\n",
       " '2ndFlrSF',\n",
       " 'LowQualFinSF',\n",
       " 'GrLivArea',\n",
       " 'BsmtFullBath',\n",
       " 'BsmtHalfBath',\n",
       " 'FullBath',\n",
       " 'HalfBath',\n",
       " 'BedroomAbvGr',\n",
       " 'KitchenAbvGr',\n",
       " 'KitchenQual',\n",
       " 'TotRmsAbvGrd',\n",
       " 'Functional',\n",
       " 'Fireplaces',\n",
       " 'FireplaceQu',\n",
       " 'GarageYrBlt',\n",
       " 'GarageFinish',\n",
       " 'GarageCars',\n",
       " 'GarageArea',\n",
       " 'GarageQual',\n",
       " 'GarageCond',\n",
       " 'WoodDeckSF',\n",
       " 'OpenPorchSF',\n",
       " 'EnclosedPorch',\n",
       " '3SsnPorch',\n",
       " 'ScreenPorch',\n",
       " 'PoolArea',\n",
       " 'MiscVal',\n",
       " 'MoSold',\n",
       " 'YrSold',\n",
       " 'SalePrice',\n",
       " 'Condition_Artery',\n",
       " 'Condition_Feedr',\n",
       " 'Condition_Norm',\n",
       " 'Condition_PosA',\n",
       " 'Condition_PosN',\n",
       " 'Condition_RRAe',\n",
       " 'Condition_RRAn',\n",
       " 'Condition_RRNe',\n",
       " 'Condition_RRNn',\n",
       " 'HouseStyleFloorsMap',\n",
       " 'BldgTypeFloorsMap',\n",
       " 'Floors',\n",
       " 'Age',\n",
       " 'AgeRemod',\n",
       " 'Exterior_AsbShng',\n",
       " 'Exterior_AsphShn',\n",
       " 'Exterior_BrkComm',\n",
       " 'Exterior_BrkFace',\n",
       " 'Exterior_CBlock',\n",
       " 'Exterior_CemntBd',\n",
       " 'Exterior_HdBoard',\n",
       " 'Exterior_ImStucc',\n",
       " 'Exterior_MetalSd',\n",
       " 'Exterior_Other',\n",
       " 'Exterior_Plywood',\n",
       " 'Exterior_Stone',\n",
       " 'Exterior_Stucco',\n",
       " 'Exterior_VinylSd',\n",
       " 'Exterior_Wd Sdng',\n",
       " 'Exterior_WdShing',\n",
       " 'MSSubClass_160',\n",
       " 'MSSubClass_180',\n",
       " 'MSSubClass_190',\n",
       " 'MSSubClass_20',\n",
       " 'MSSubClass_30',\n",
       " 'MSSubClass_40',\n",
       " 'MSSubClass_45',\n",
       " 'MSSubClass_50',\n",
       " 'MSSubClass_60',\n",
       " 'MSSubClass_70',\n",
       " 'MSSubClass_75',\n",
       " 'MSSubClass_80',\n",
       " 'MSSubClass_85',\n",
       " 'MSSubClass_90',\n",
       " 'MSZoning_FV',\n",
       " 'MSZoning_RH',\n",
       " 'MSZoning_RL',\n",
       " 'MSZoning_RM',\n",
       " 'Street_Pave',\n",
       " 'Alley_NotApplicable',\n",
       " 'Alley_Pave',\n",
       " 'LandContour_HLS',\n",
       " 'LandContour_Low',\n",
       " 'LandContour_Lvl',\n",
       " 'Utilities_NoSeWa',\n",
       " 'LotConfig_CulDSac',\n",
       " 'LotConfig_FR2',\n",
       " 'LotConfig_FR3',\n",
       " 'LotConfig_Inside',\n",
       " 'LandSlope_Mod',\n",
       " 'LandSlope_Sev',\n",
       " 'Neighborhood_Blueste',\n",
       " 'Neighborhood_BrDale',\n",
       " 'Neighborhood_BrkSide',\n",
       " 'Neighborhood_ClearCr',\n",
       " 'Neighborhood_CollgCr',\n",
       " 'Neighborhood_Crawfor',\n",
       " 'Neighborhood_Edwards',\n",
       " 'Neighborhood_Gilbert',\n",
       " 'Neighborhood_IDOTRR',\n",
       " 'Neighborhood_MeadowV',\n",
       " 'Neighborhood_Mitchel',\n",
       " 'Neighborhood_NAmes',\n",
       " 'Neighborhood_NPkVill',\n",
       " 'Neighborhood_NWAmes',\n",
       " 'Neighborhood_NoRidge',\n",
       " 'Neighborhood_NridgHt',\n",
       " 'Neighborhood_OldTown',\n",
       " 'Neighborhood_SWISU',\n",
       " 'Neighborhood_Sawyer',\n",
       " 'Neighborhood_SawyerW',\n",
       " 'Neighborhood_Somerst',\n",
       " 'Neighborhood_StoneBr',\n",
       " 'Neighborhood_Timber',\n",
       " 'Neighborhood_Veenker',\n",
       " 'BldgType_2fmCon',\n",
       " 'BldgType_Duplex',\n",
       " 'BldgType_Twnhs',\n",
       " 'BldgType_TwnhsE',\n",
       " 'HouseStyle_1.5Unf',\n",
       " 'HouseStyle_1Story',\n",
       " 'HouseStyle_2.5Fin',\n",
       " 'HouseStyle_2.5Unf',\n",
       " 'HouseStyle_2Story',\n",
       " 'HouseStyle_SFoyer',\n",
       " 'HouseStyle_SLvl',\n",
       " 'RoofStyle_Gable',\n",
       " 'RoofStyle_Gambrel',\n",
       " 'RoofStyle_Hip',\n",
       " 'RoofStyle_Mansard',\n",
       " 'RoofStyle_Shed',\n",
       " 'RoofMatl_CompShg',\n",
       " 'RoofMatl_Membran',\n",
       " 'RoofMatl_Metal',\n",
       " 'RoofMatl_Roll',\n",
       " 'RoofMatl_Tar&Grv',\n",
       " 'RoofMatl_WdShake',\n",
       " 'RoofMatl_WdShngl',\n",
       " 'MasVnrType_BrkFace',\n",
       " 'MasVnrType_None',\n",
       " 'MasVnrType_Stone',\n",
       " 'Foundation_CBlock',\n",
       " 'Foundation_PConc',\n",
       " 'Foundation_Slab',\n",
       " 'Foundation_Stone',\n",
       " 'Foundation_Wood',\n",
       " 'BsmtExposure_Gd',\n",
       " 'BsmtExposure_Mn',\n",
       " 'BsmtExposure_No',\n",
       " 'Heating_GasA',\n",
       " 'Heating_GasW',\n",
       " 'Heating_Grav',\n",
       " 'Heating_OthW',\n",
       " 'Heating_Wall',\n",
       " 'CentralAir_Y',\n",
       " 'Electrical_FuseF',\n",
       " 'Electrical_FuseP',\n",
       " 'Electrical_Mix',\n",
       " 'Electrical_SBrkr',\n",
       " 'GarageType_Attchd',\n",
       " 'GarageType_Basment',\n",
       " 'GarageType_BuiltIn',\n",
       " 'GarageType_CarPort',\n",
       " 'GarageType_Detchd',\n",
       " 'PavedDrive_P',\n",
       " 'PavedDrive_Y',\n",
       " 'Fence_GdWo',\n",
       " 'Fence_MnPrv',\n",
       " 'Fence_MnWw',\n",
       " 'Fence_NotApplicable',\n",
       " 'MiscFeature_NotApplicable',\n",
       " 'MiscFeature_Othr',\n",
       " 'MiscFeature_Shed',\n",
       " 'MiscFeature_TenC',\n",
       " 'SaleType_CWD',\n",
       " 'SaleType_Con',\n",
       " 'SaleType_ConLD',\n",
       " 'SaleType_ConLI',\n",
       " 'SaleType_ConLw',\n",
       " 'SaleType_New',\n",
       " 'SaleType_Oth',\n",
       " 'SaleType_WD',\n",
       " 'SaleCondition_AdjLand',\n",
       " 'SaleCondition_Alloca',\n",
       " 'SaleCondition_Family',\n",
       " 'SaleCondition_Normal',\n",
       " 'SaleCondition_Partial']"
      ]
     },
     "execution_count": 257,
     "metadata": {},
     "output_type": "execute_result"
    }
   ],
   "source": [
    "colnames_numerics_only"
   ]
  },
  {
   "cell_type": "code",
   "execution_count": 258,
   "id": "c96d8a16",
   "metadata": {},
   "outputs": [
    {
     "data": {
      "text/plain": [
       "207"
      ]
     },
     "execution_count": 258,
     "metadata": {},
     "output_type": "execute_result"
    }
   ],
   "source": [
    "len(colnames_numerics_only)"
   ]
  },
  {
   "cell_type": "code",
   "execution_count": 259,
   "id": "e86631b8",
   "metadata": {},
   "outputs": [
    {
     "data": {
      "text/plain": [
       "(1452, 207)"
      ]
     },
     "execution_count": 259,
     "metadata": {},
     "output_type": "execute_result"
    }
   ],
   "source": [
    "housing_sales_data.shape"
   ]
  },
  {
   "cell_type": "code",
   "execution_count": null,
   "id": "a51223e2",
   "metadata": {},
   "outputs": [],
   "source": []
  },
  {
   "cell_type": "code",
   "execution_count": 260,
   "id": "cf4fa4a0",
   "metadata": {},
   "outputs": [
    {
     "data": {
      "text/html": [
       "<div>\n",
       "<style scoped>\n",
       "    .dataframe tbody tr th:only-of-type {\n",
       "        vertical-align: middle;\n",
       "    }\n",
       "\n",
       "    .dataframe tbody tr th {\n",
       "        vertical-align: top;\n",
       "    }\n",
       "\n",
       "    .dataframe thead th {\n",
       "        text-align: right;\n",
       "    }\n",
       "</style>\n",
       "<table border=\"1\" class=\"dataframe\">\n",
       "  <thead>\n",
       "    <tr style=\"text-align: right;\">\n",
       "      <th></th>\n",
       "      <th>LotFrontage</th>\n",
       "      <th>MasVnrArea</th>\n",
       "      <th>GarageYrBlt</th>\n",
       "    </tr>\n",
       "    <tr>\n",
       "      <th>Id</th>\n",
       "      <th></th>\n",
       "      <th></th>\n",
       "      <th></th>\n",
       "    </tr>\n",
       "  </thead>\n",
       "  <tbody>\n",
       "    <tr>\n",
       "      <th>1</th>\n",
       "      <td>65.0</td>\n",
       "      <td>196.0</td>\n",
       "      <td>2003.0</td>\n",
       "    </tr>\n",
       "    <tr>\n",
       "      <th>2</th>\n",
       "      <td>80.0</td>\n",
       "      <td>0.0</td>\n",
       "      <td>1976.0</td>\n",
       "    </tr>\n",
       "    <tr>\n",
       "      <th>3</th>\n",
       "      <td>68.0</td>\n",
       "      <td>162.0</td>\n",
       "      <td>2001.0</td>\n",
       "    </tr>\n",
       "    <tr>\n",
       "      <th>4</th>\n",
       "      <td>60.0</td>\n",
       "      <td>0.0</td>\n",
       "      <td>1998.0</td>\n",
       "    </tr>\n",
       "    <tr>\n",
       "      <th>5</th>\n",
       "      <td>84.0</td>\n",
       "      <td>350.0</td>\n",
       "      <td>2000.0</td>\n",
       "    </tr>\n",
       "    <tr>\n",
       "      <th>...</th>\n",
       "      <td>...</td>\n",
       "      <td>...</td>\n",
       "      <td>...</td>\n",
       "    </tr>\n",
       "    <tr>\n",
       "      <th>1456</th>\n",
       "      <td>62.0</td>\n",
       "      <td>0.0</td>\n",
       "      <td>1999.0</td>\n",
       "    </tr>\n",
       "    <tr>\n",
       "      <th>1457</th>\n",
       "      <td>85.0</td>\n",
       "      <td>119.0</td>\n",
       "      <td>1978.0</td>\n",
       "    </tr>\n",
       "    <tr>\n",
       "      <th>1458</th>\n",
       "      <td>66.0</td>\n",
       "      <td>0.0</td>\n",
       "      <td>1941.0</td>\n",
       "    </tr>\n",
       "    <tr>\n",
       "      <th>1459</th>\n",
       "      <td>68.0</td>\n",
       "      <td>0.0</td>\n",
       "      <td>1950.0</td>\n",
       "    </tr>\n",
       "    <tr>\n",
       "      <th>1460</th>\n",
       "      <td>75.0</td>\n",
       "      <td>0.0</td>\n",
       "      <td>1965.0</td>\n",
       "    </tr>\n",
       "  </tbody>\n",
       "</table>\n",
       "<p>1452 rows × 3 columns</p>\n",
       "</div>"
      ],
      "text/plain": [
       "      LotFrontage  MasVnrArea  GarageYrBlt\n",
       "Id                                        \n",
       "1            65.0       196.0       2003.0\n",
       "2            80.0         0.0       1976.0\n",
       "3            68.0       162.0       2001.0\n",
       "4            60.0         0.0       1998.0\n",
       "5            84.0       350.0       2000.0\n",
       "...           ...         ...          ...\n",
       "1456         62.0         0.0       1999.0\n",
       "1457         85.0       119.0       1978.0\n",
       "1458         66.0         0.0       1941.0\n",
       "1459         68.0         0.0       1950.0\n",
       "1460         75.0         0.0       1965.0\n",
       "\n",
       "[1452 rows x 3 columns]"
      ]
     },
     "execution_count": 260,
     "metadata": {},
     "output_type": "execute_result"
    }
   ],
   "source": [
    "housing_sales_data[housing_sales_data.columns[housing_sales_data.isna().any()]]"
   ]
  },
  {
   "cell_type": "code",
   "execution_count": null,
   "id": "acb1f400",
   "metadata": {},
   "outputs": [],
   "source": []
  },
  {
   "cell_type": "code",
   "execution_count": 261,
   "id": "922e6a98",
   "metadata": {},
   "outputs": [
    {
     "data": {
      "text/plain": [
       "0    207\n",
       "dtype: int64"
      ]
     },
     "execution_count": 261,
     "metadata": {},
     "output_type": "execute_result"
    }
   ],
   "source": [
    "#LotFrontage, MasVnrArea can be imputed with median and GarageYrBlt with mode\n",
    "housing_sales_data['LotFrontage'] = housing_sales_data['LotFrontage'].fillna(housing_sales_data['LotFrontage'].median())\n",
    "housing_sales_data['MasVnrArea'] = housing_sales_data['MasVnrArea'].fillna(housing_sales_data['MasVnrArea'].median())\n",
    "housing_sales_data['GarageYrBlt'] = housing_sales_data['GarageYrBlt'].fillna(int(housing_sales_data['GarageYrBlt'].mode()))\n",
    "housing_sales_data.isna().sum().value_counts()"
   ]
  },
  {
   "cell_type": "markdown",
   "id": "c776e02e",
   "metadata": {},
   "source": [
    "## Data pre processing (data scaling)"
   ]
  },
  {
   "cell_type": "markdown",
   "id": "05ee7b8d",
   "metadata": {},
   "source": [
    "Since there were some outliers in data, we can use standard scaler"
   ]
  },
  {
   "cell_type": "code",
   "execution_count": 262,
   "id": "dfeb235a",
   "metadata": {},
   "outputs": [],
   "source": [
    "from sklearn.model_selection import train_test_split\n",
    "\n",
    "y = housing_sales_data.pop('SalePrice')\n",
    "X = housing_sales_data\n",
    "\n",
    "X_train, X_test, y_train, y_test = train_test_split(X, y, test_size = 0.25, random_state = 35)"
   ]
  },
  {
   "cell_type": "code",
   "execution_count": 263,
   "id": "37fa9fef",
   "metadata": {},
   "outputs": [],
   "source": [
    "#Since there were some outliers in data, it's better if we use standard scaler.\n",
    "\n",
    "from sklearn.preprocessing import StandardScaler\n",
    "# initiate the standard scaler\n",
    "scaler = StandardScaler()\n",
    "# fit transform\n",
    "X_train = scaler.fit_transform(X_train)\n",
    "#transform test data\n",
    "X_test = scaler.transform(X_test)"
   ]
  },
  {
   "cell_type": "markdown",
   "id": "bb5a93fd",
   "metadata": {},
   "source": [
    "## Common functions "
   ]
  },
  {
   "cell_type": "code",
   "execution_count": 348,
   "id": "4cd0ceb1",
   "metadata": {},
   "outputs": [],
   "source": [
    "from sklearn.metrics import mean_squared_error, r2_score\n",
    "\n",
    "def print_model_metrics(model):\n",
    "    # Lets calculate some metrics such as R2 score, RSS and RMSE\n",
    "\n",
    "    print(model)\n",
    "    metric_list = []\n",
    "    r2_train_lr = r2_score(y_train, y_pred_train)\n",
    "    print(\"R2 train:\" + str(r2_train_lr))\n",
    "    metric_list.append(r2_train_lr)\n",
    "\n",
    "    r2_test_lr = r2_score(y_test, y_pred_test)\n",
    "    print(\"R2 test:\" + str(r2_test_lr))\n",
    "    metric_list.append(r2_test_lr)\n",
    "\n",
    "    rss1_lr = np.sum(np.square(y_train - y_pred_train))\n",
    "    print(\"RSS train:\" + str(rss1_lr))\n",
    "    metric_list.append(rss1_lr)\n",
    "\n",
    "    rss2_lr = np.sum(np.square(y_test - y_pred_test))\n",
    "    print(\"RSS test:\" + str(rss2_lr))\n",
    "    metric_list.append(rss2_lr)\n",
    "\n",
    "    mse_train_lr = mean_squared_error(y_train, y_pred_train)\n",
    "    print(\"MSE train:\" + str(mse_train_lr))\n",
    "    metric_list.append(mse_train_lr**0.5)\n",
    "\n",
    "    mse_test_lr = mean_squared_error(y_test, y_pred_test)\n",
    "    print(\"MSE test:\" + str(mse_test_lr))\n",
    "    metric_list.append(mse_test_lr**0.5)\n",
    "    return metric_list"
   ]
  },
  {
   "cell_type": "code",
   "execution_count": 355,
   "id": "1a0b3ce4",
   "metadata": {},
   "outputs": [],
   "source": [
    "def plot_model_test_train_score(cv_results):\n",
    "    cv_results = pd.DataFrame(model_cv.cv_results_)\n",
    "    cv_results.head()\n",
    "\n",
    "    # plotting mean test and train scoes with alpha \n",
    "    cv_results['param_alpha'] = cv_results['param_alpha'].astype('float32')\n",
    "\n",
    "    # plotting\n",
    "    plt.plot(cv_results['param_alpha'], cv_results['mean_train_score'])\n",
    "    plt.plot(cv_results['param_alpha'], cv_results['mean_test_score'])\n",
    "    plt.xlabel('alpha')\n",
    "    plt.ylabel('Negative Mean Absolute Error')\n",
    "\n",
    "    plt.title(\"Negative Mean Absolute Error and alpha\")\n",
    "    plt.legend(['train score', 'test score'], loc='upper left')\n",
    "    plt.show()"
   ]
  },
  {
   "cell_type": "code",
   "execution_count": 360,
   "id": "850e18a2",
   "metadata": {},
   "outputs": [],
   "source": [
    "import seaborn as sns\n",
    "import scipy as sp\n",
    "def plot_residual_analysis(residual):\n",
    "    sns.distplot(residual)\n",
    "    \n",
    "    fig, ax = plt.subplots(figsize=(6,2.5))\n",
    "    _, (__, ___, r) = sp.stats.probplot(residual_test, plot=ax, fit=True)\n",
    "    \n",
    "    fig, ax = plt.subplots(figsize=(6,2.5))\n",
    "    _ = ax.scatter(y_pred_test, residual_test)"
   ]
  },
  {
   "cell_type": "markdown",
   "id": "6b79248d",
   "metadata": {},
   "source": [
    "## Ridge"
   ]
  },
  {
   "cell_type": "code",
   "execution_count": 354,
   "id": "6524f90f",
   "metadata": {},
   "outputs": [
    {
     "name": "stdout",
     "output_type": "stream",
     "text": [
      "Fitting 5 folds for each of 47 candidates, totalling 235 fits\n",
      "{'alpha': 400}\n"
     ]
    },
    {
     "data": {
      "image/png": "[encoded data removed]",
      "text/plain": [
       "<Figure size 432x288 with 1 Axes>"
      ]
     },
     "metadata": {
      "needs_background": "light"
     },
     "output_type": "display_data"
    }
   ],
   "source": [
    "from sklearn.linear_model import Ridge, Lasso\n",
    "from sklearn.model_selection import GridSearchCV\n",
    "from sklearn import linear_model\n",
    "\n",
    "params = {'alpha': [0.0001, 0.001, 0.01, 0.05, 0.1, \n",
    " 0.2, 0.3, 0.4, 0.5, 0.6, 0.7, 0.8, 0.9, 1.0, 2.0, 3.0, \n",
    " 4.0, 5.0, 6.0, 7.0, 8.0, 9.0, 10.0, 20, 50, 100, 150, 200, 250, 300, 350,  400, 450, 500,550, 575, 600,650, 700, 750, 800, 850, 900, 950, 1000, 1250, 1500]}\n",
    "\n",
    "ridge = Ridge()\n",
    "\n",
    "# cross validation\n",
    "folds = 5\n",
    "model_cv = GridSearchCV(estimator = ridge, \n",
    "                        param_grid = params, \n",
    "                        scoring= 'neg_mean_absolute_error',  \n",
    "                        cv = folds, \n",
    "                        return_train_score=True,\n",
    "                        verbose = 1)            \n",
    "model_cv.fit(X_train, y_train) \n",
    "\n",
    "# Printing the best hyperparameter alpha\n",
    "print(model_cv.best_params_)\n",
    "\n",
    "plot_model_test_train_score(model_cv)"
   ]
  },
  {
   "cell_type": "code",
   "execution_count": null,
   "id": "5902d4c3",
   "metadata": {},
   "outputs": [],
   "source": []
  },
  {
   "cell_type": "code",
   "execution_count": null,
   "id": "eafef470",
   "metadata": {},
   "outputs": [],
   "source": []
  },
  {
   "cell_type": "code",
   "execution_count": 344,
   "id": "e813428b",
   "metadata": {},
   "outputs": [
    {
     "name": "stdout",
     "output_type": "stream",
     "text": [
      "Ridge(alpha=400)\n",
      "R2 train:0.8950345173240554\n",
      "R2 test:0.8478918292826052\n",
      "RSS train:593872544273.9613\n",
      "RSS test:294172313979.2147\n",
      "MSE train:545337506.2203501\n",
      "MSE test:810392049.5295172\n"
     ]
    }
   ],
   "source": [
    "#Fitting Ridge model for alpha = 350 and printing coefficients which have been penalised\n",
    "alpha = 400\n",
    "ridge = Ridge(alpha=alpha)\n",
    "\n",
    "ridge.fit(X_train, y_train)\n",
    "metric_ridge = print_model_metrics(ridge)"
   ]
  },
  {
   "cell_type": "code",
   "execution_count": 331,
   "id": "15da9496",
   "metadata": {},
   "outputs": [
    {
     "name": "stdout",
     "output_type": "stream",
     "text": [
      "[(-2698.3632848392244, 'BldgTypeFloorsMap'), (-2429.9593266044167, 'Condition_Feedr'), (-2374.2922471440306, 'Neighborhood_Gilbert'), (-2354.3345897725762, 'BldgType_TwnhsE'), (-2128.672029936366, 'BsmtExposure_No'), (-1975.5623288905329, 'PoolArea'), (-1910.8679371601813, 'Neighborhood_NAmes'), (-1777.556664542877, 'KitchenAbvGr'), (-1679.8828100661444, 'Neighborhood_NWAmes'), (-1630.797097061475, 'Neighborhood_Edwards'), (-1596.968795544312, 'Exterior_HdBoard'), (-1497.6469591832954, 'RoofStyle_Gable'), (-1395.9457992550188, 'Neighborhood_OldTown'), (-1366.2684213572043, 'Neighborhood_MeadowV'), (-1356.9556401414397, 'AgeRemod'), (-1329.0105845721896, 'MSSubClass_160'), (-1297.3012132626961, 'BldgType_Twnhs'), (-1289.03222867783, 'Age'), (-1251.1695145368737, 'Neighborhood_IDOTRR'), (-1207.0010834838456, 'LotFrontage'), (-1043.045028739348, 'Condition_RRAe'), (-952.6406126799324, 'Exterior_WdShing'), (-942.7834702640357, 'Neighborhood_CollgCr'), (-913.9763563064912, 'GarageCond'), (-910.6141459634915, 'SaleType_WD'), (-860.7212567519933, 'Heating_OthW'), (-828.7190455888625, 'SaleCondition_Family'), (-806.9782222259057, 'Condition_Artery'), (-764.3088261213696, 'GarageType_Detchd'), (-701.8571360428399, 'Exterior_Wd Sdng'), (-698.4493972662568, 'MSZoning_RM'), (-669.1383101023142, 'LotConfig_FR2'), (-649.5772612056921, 'Electrical_SBrkr'), (-616.1275124915242, 'GarageType_Basment'), (-592.6923504543845, 'Condition_RRNe'), (-588.9976007658811, 'HouseStyle_2.5Unf'), (-581.1035802326173, 'Neighborhood_SWISU'), (-563.6518550888824, 'Exterior_Stucco'), (-551.2884470540162, 'MasVnrType_BrkFace'), (-488.5483724780347, 'MSSubClass_30'), (-469.4265980753658, 'Neighborhood_Mitchel'), (-462.0888447681034, 'Neighborhood_SawyerW'), (-431.3531118237997, 'YrSold'), (-406.8375226254629, 'LotShape'), (-400.6899633191885, 'SaleType_ConLw'), (-392.5929227821004, 'Condition_Norm'), (-390.3161379068793, 'MSSubClass_85'), (-383.8323286650663, 'Fence_MnPrv'), (-377.19290010147483, 'Neighborhood_Sawyer'), (-370.37535356696117, 'MiscFeature_Shed'), (-366.7686198402355, 'HouseStyle_SFoyer'), (-353.91985220623724, 'SaleType_ConLI'), (-326.71863909750624, 'RoofStyle_Gambrel'), (-326.54703109760993, 'Exterior_AsbShng'), (-315.961725352751, 'Fence_MnWw'), (-301.5943078494062, 'MSSubClass_80'), (-292.97195189981187, 'Exterior_Plywood'), (-256.3416097288999, 'BsmtHalfBath'), (-256.25245720574145, 'MSSubClass_190'), (-212.21195290123626, 'Foundation_Stone'), (-211.33263520151246, 'Heating_GasA'), (-207.4287829020369, 'Foundation_Wood'), (-183.04193978821266, 'Heating_Grav'), (-182.47372346990673, 'PavedDrive_P'), (-153.76638618513277, 'HouseStyle_1Story'), (-151.33581898778945, 'BsmtExposure_Mn'), (-148.17965650795193, 'Foundation_CBlock'), (-138.09131178762638, 'Electrical_FuseP'), (-131.31981199679976, 'BsmtFinType2'), (-124.85238669063223, 'Neighborhood_Blueste'), (-122.69362790786404, 'LotConfig_FR3'), (-119.3204751576074, 'Electrical_FuseF'), (-110.90088410232389, 'BsmtUnfSF'), (-105.84278736780325, 'Fence_NotApplicable'), (-102.78822177491354, 'BldgType_Duplex'), (-102.78822177490676, 'MSSubClass_90'), (-92.33325208838644, 'Exterior_BrkComm'), (-87.48351480727698, 'SaleType_CWD'), (-66.99997349297362, 'GarageType_CarPort'), (-65.86339462873819, 'LotConfig_Inside'), (-63.92574564386491, 'MSSubClass_70'), (-54.72685371130967, 'LandContour_Low'), (-48.631459250577656, 'GarageQual'), (-22.050844099173723, 'Condition_PosN'), (-7.916390494937167, 'Exterior_Stone'), (0.0, 'Electrical_Mix'), (0.0, 'Exterior_CBlock'), (0.0, 'Exterior_Other'), (0.0, 'MiscFeature_Othr'), (0.0, 'Utilities_NoSeWa'), (0.13026914996755073, 'GarageType_Attchd'), (6.262266710700682, 'MSSubClass_45'), (31.111144702656766, 'Condition_RRNn'), (40.64259575475523, 'HouseStyle_2Story'), (41.69691994204033, 'MSSubClass_40'), (53.86324391359962, 'HouseStyle_SLvl'), (65.37834725806708, 'Condition_RRAn'), (75.07493152984296, 'BldgType_2fmCon'), (90.85820987319654, 'HouseStyle_2.5Fin'), (112.60654710028165, 'Neighborhood_ClearCr'), (113.14879696402959, 'LandSlope_Sev'), (117.02295392195347, 'Alley_NotApplicable'), (123.70825274308878, 'HouseStyleFloorsMap'), (123.97293809326169, 'Floors'), (125.85826628077815, 'MSSubClass_180'), (126.1585263060136, 'Heating_Wall'), (134.88277268522543, 'MSZoning_RH'), (147.21968672015666, 'ExterCond'), (153.993918587158, 'HouseStyle_1.5Unf'), (170.6445383159101, 'Neighborhood_NPkVill'), (186.31231030464772, 'MiscVal'), (193.34444078227148, 'SaleType_Con'), (245.56243124730466, 'Exterior_AsphShn'), (248.61844190484095, 'RoofMatl_Roll'), (275.3123983610518, 'SaleType_ConLD'), (283.80007014142865, 'BsmtCond'), (284.84381862417786, 'MiscFeature_TenC'), (294.67778535414493, 'Alley_Pave'), (299.88681682347016, 'RoofMatl_Metal'), (318.05753776099414, 'BedroomAbvGr'), (323.78050668307515, 'MasVnrType_None'), (324.70723431670064, 'MoSold'), (333.87357203740135, 'MiscFeature_NotApplicable'), (340.04392270569537, 'Neighborhood_BrDale'), (344.4091042711829, 'SaleCondition_Alloca'), (354.2068096523378, 'Fence_GdWo'), (355.45886894425547, 'MSSubClass_60'), (359.021335765441, 'SaleCondition_AdjLand'), (361.3770682651228, 'Exterior_ImStucc'), (401.09464165498423, 'Exterior_MetalSd'), (510.5445421611849, 'Neighborhood_Timber'), (510.5446898099717, 'SaleType_Oth'), (542.3518222048, 'Exterior_VinylSd'), (573.4664295370169, 'LowQualFinSF'), (598.8576549109281, 'Heating_GasW'), (605.4590484984661, 'RoofMatl_WdShake'), (637.3405227996085, 'RoofStyle_Mansard'), (650.5925508725082, 'MSSubClass_50'), (669.9017557287808, 'Condition_PosA'), (695.4037971879993, 'BsmtFinSF2'), (697.7619092083729, 'LandContour_Lvl'), (709.6910773966151, 'Neighborhood_Somerst'), (754.2193097308074, 'PavedDrive_Y'), (809.3370216560227, 'Foundation_Slab'), (853.4616030129322, 'CentralAir_Y'), (897.5960609399943, 'GarageType_BuiltIn'), (901.2113981330255, 'Street_Pave'), (928.2256883143414, 'Neighborhood_BrkSide'), (965.4710767865328, 'RoofMatl_Tar&Grv'), (988.714476221919, 'RoofStyle_Shed'), (1014.4271186556329, '3SsnPorch'), (1017.2988960230111, 'RoofStyle_Hip'), (1043.2128807018112, 'MSZoning_FV'), (1051.0991656669626, 'GarageYrBlt'), (1061.244564175958, 'Foundation_PConc'), (1105.1865585769779, 'MSSubClass_75'), (1108.1355153449877, 'EnclosedPorch'), (1132.220819805087, 'LandContour_HLS'), (1156.5075872137352, 'HeatingQC'), (1159.7126307001772, 'LandSlope_Mod'), (1188.7574222047342, 'Neighborhood_Veenker'), (1241.0229155822237, 'RoofMatl_Membran'), (1260.3157258821532, 'MSZoning_RL'), (1271.5903559007077, 'YearBuilt'), (1326.854604966287, 'YearRemodAdd'), (1342.5746638177773, 'GarageFinish'), (1368.4168467145496, 'MasVnrType_Stone'), (1496.0410708841741, 'SaleCondition_Normal'), (1549.9089625971544, 'MSSubClass_20'), (1644.9719061850933, 'BsmtFinSF1'), (1847.2039415256143, 'LotConfig_CulDSac'), (1848.7427820045257, 'TotalBsmtSF'), (1872.8241958000403, 'ScreenPorch'), (2079.401957252558, 'HalfBath'), (2091.4852009592173, 'OpenPorchSF'), (2123.043187954568, 'Fireplaces'), (2130.4784207369667, 'Functional'), (2183.920393248846, 'BsmtFullBath'), (2202.348824014787, 'RoofMatl_CompShg'), (2215.8855142120033, 'WoodDeckSF'), (2252.5115958199813, 'SaleCondition_Partial'), (2425.274885416988, 'Exterior_CemntBd'), (2491.9420581949557, 'BsmtExposure_Gd'), (2580.3839044467422, 'Exterior_BrkFace'), (2643.4391216508493, 'SaleType_New'), (2703.9963910652305, 'Neighborhood_Crawfor'), (2902.920614532673, 'OverallCond'), (2973.318487609551, 'FullBath'), (3168.6411357117013, 'BsmtFinType1'), (3267.7383387317063, 'BsmtQual'), (3283.1092232278834, 'LotArea'), (3312.0322061218403, 'FireplaceQu'), (3389.824691355759, 'GarageArea'), (3480.6270264254754, 'MasVnrArea'), (3698.148719059387, '2ndFlrSF'), (3829.527197528549, 'RoofMatl_WdShngl'), (3899.9958351899286, 'ExterQual'), (4021.967235821688, 'Neighborhood_NoRidge'), (4231.450841018431, 'Neighborhood_StoneBr'), (4424.769091189533, 'GarageCars'), (4630.62824963315, 'KitchenQual'), (4654.0207226866105, '1stFlrSF'), (4934.978184800162, 'TotRmsAbvGrd'), (5392.595512574028, 'Neighborhood_NridgHt'), (6728.360890934108, 'GrLivArea'), (8069.503855978625, 'OverallQual')]\n"
     ]
    }
   ],
   "source": []
  },
  {
   "cell_type": "code",
   "execution_count": 362,
   "id": "9c23c613",
   "metadata": {},
   "outputs": [
    {
     "data": {
      "image/png": "[encoded data removed]",
      "text/plain": [
       "<Figure size 432x288 with 1 Axes>"
      ]
     },
     "metadata": {
      "needs_background": "light"
     },
     "output_type": "display_data"
    },
    {
     "data": {
      "image/png": "[encoded data removed]",
      "text/plain": [
       "<Figure size 432x180 with 1 Axes>"
      ]
     },
     "metadata": {
      "needs_background": "light"
     },
     "output_type": "display_data"
    },
    {
     "data": {
      "image/png": "[encoded data removed]",
      "text/plain": [
       "<Figure size 432x180 with 1 Axes>"
      ]
     },
     "metadata": {
      "needs_background": "light"
     },
     "output_type": "display_data"
    }
   ],
   "source": [
    "plot_residual_analysis(residual_test)"
   ]
  },
  {
   "cell_type": "code",
   "execution_count": null,
   "id": "36fa066e",
   "metadata": {},
   "outputs": [],
   "source": []
  },
  {
   "cell_type": "code",
   "execution_count": null,
   "id": "5b0b7ab1",
   "metadata": {},
   "outputs": [],
   "source": []
  },
  {
   "cell_type": "code",
   "execution_count": null,
   "id": "f3c17f67",
   "metadata": {},
   "outputs": [],
   "source": []
  },
  {
   "cell_type": "code",
   "execution_count": null,
   "id": "92d5a1f3",
   "metadata": {},
   "outputs": [],
   "source": []
  },
  {
   "cell_type": "code",
   "execution_count": null,
   "id": "b6766288",
   "metadata": {},
   "outputs": [],
   "source": []
  },
  {
   "cell_type": "markdown",
   "id": "03df4dae",
   "metadata": {},
   "source": [
    "## Lasso"
   ]
  },
  {
   "cell_type": "code",
   "execution_count": 363,
   "id": "5e37ea8c",
   "metadata": {},
   "outputs": [
    {
     "name": "stdout",
     "output_type": "stream",
     "text": [
      "Fitting 5 folds for each of 47 candidates, totalling 235 fits\n",
      "{'alpha': 850}\n"
     ]
    },
    {
     "data": {
      "image/png": "[encoded data removed]",
      "text/plain": [
       "<Figure size 432x288 with 1 Axes>"
      ]
     },
     "metadata": {
      "needs_background": "light"
     },
     "output_type": "display_data"
    }
   ],
   "source": [
    "lasso = Lasso()\n",
    "\n",
    "# cross validation\n",
    "model_cv = GridSearchCV(estimator = lasso, \n",
    "                        param_grid = params, \n",
    "                        scoring= 'neg_mean_absolute_error', \n",
    "                        cv = folds, \n",
    "                        return_train_score=True,\n",
    "                        verbose = 1)            \n",
    "\n",
    "model_cv.fit(X_train, y_train) \n",
    "\n",
    "# Printing the best hyperparameter alpha\n",
    "print(model_cv.best_params_)\n",
    "\n",
    "plot_model_test_train_score(model_cv)"
   ]
  },
  {
   "cell_type": "code",
   "execution_count": 274,
   "id": "86d0e2ed",
   "metadata": {},
   "outputs": [
    {
     "name": "stdout",
     "output_type": "stream",
     "text": [
      "{'alpha': 850}\n"
     ]
    }
   ],
   "source": [
    "# Printing the best hyperparameter alpha\n",
    "print(model_cv.best_params_)"
   ]
  },
  {
   "cell_type": "code",
   "execution_count": 365,
   "id": "0280282d",
   "metadata": {},
   "outputs": [
    {
     "name": "stdout",
     "output_type": "stream",
     "text": [
      "Lasso(alpha=850)\n",
      "R2 train:0.8926685889542766\n",
      "R2 test:0.8545109965154624\n",
      "RSS train:607258467576.6555\n",
      "RSS test:281371057266.17004\n",
      "MSE train:557629446.8105193\n",
      "MSE test:775126879.5211296\n"
     ]
    }
   ],
   "source": [
    "#Fitting Lasso model for alpha = 850 and printing coefficients which have been penalised\n",
    "\n",
    "alpha =850\n",
    "\n",
    "lasso = Lasso(alpha=alpha)\n",
    "lasso.fit(X_train, y_train)\n",
    "\n",
    "metric_lasso = print_model_metrics(lasso)"
   ]
  },
  {
   "cell_type": "code",
   "execution_count": 366,
   "id": "d49ad34e",
   "metadata": {},
   "outputs": [
    {
     "name": "stdout",
     "output_type": "stream",
     "text": [
      "[(-5799.220358917618, 'BldgTypeFloorsMap'), (-3520.3199934682966, 'Age'), (-2195.113942096938, 'Condition_Feedr'), (-2120.020674368382, 'PoolArea'), (-1747.0529488401369, 'BsmtExposure_No'), (-1270.1304433245548, 'RoofStyle_Gable'), (-1204.5937291988487, 'LotFrontage'), (-1114.1471345926564, 'AgeRemod'), (-1107.9959635887499, 'Exterior_HdBoard'), (-976.2162437776866, 'MSZoning_RM'), (-956.3176456857645, 'Neighborhood_OldTown'), (-926.4725476228544, 'Heating_OthW'), (-774.9601619217731, 'KitchenAbvGr'), (-728.6748554061932, 'Condition_Artery'), (-688.9746902755251, 'Neighborhood_Gilbert'), (-643.0613560176564, 'MSSubClass_160'), (-570.6524795308299, 'Neighborhood_NWAmes'), (-536.3144275279471, 'Exterior_WdShing'), (-483.02105330421404, 'GarageType_Basment'), (-452.2622746245686, 'MSSubClass_70'), (-419.166506030011, 'Condition_RRAe'), (-361.738869212221, 'Exterior_Wd Sdng'), (-294.4967560307873, 'SaleCondition_Family'), (-268.9992669396882, 'Neighborhood_IDOTRR'), (-155.69107923405093, 'Neighborhood_Edwards'), (-149.46074176868302, 'GarageType_Detchd'), (0.0, '2ndFlrSF'), (0.0, '3SsnPorch'), (0.0, 'Alley_NotApplicable'), (-0.0, 'Alley_Pave'), (-0.0, 'BedroomAbvGr'), (-0.0, 'BldgType_2fmCon'), (0.0, 'BldgType_Duplex'), (-0.0, 'BldgType_Twnhs'), (-0.0, 'BldgType_TwnhsE'), (-0.0, 'BsmtCond'), (0.0, 'BsmtExposure_Mn'), (0.0, 'BsmtFinSF1'), (0.0, 'BsmtFinSF2'), (0.0, 'BsmtFinType2'), (0.0, 'BsmtHalfBath'), (-0.0, 'BsmtUnfSF'), (-0.0, 'Condition_Norm'), (0.0, 'Condition_PosA'), (0.0, 'Condition_PosN'), (0.0, 'Condition_RRAn'), (-0.0, 'Condition_RRNe'), (0.0, 'Condition_RRNn'), (-0.0, 'Electrical_FuseF'), (-0.0, 'Electrical_FuseP'), (0.0, 'Electrical_Mix'), (-0.0, 'Electrical_SBrkr'), (0.0, 'EnclosedPorch'), (0.0, 'ExterCond'), (-0.0, 'Exterior_AsbShng'), (0.0, 'Exterior_AsphShn'), (0.0, 'Exterior_BrkComm'), (0.0, 'Exterior_CBlock'), (0.0, 'Exterior_ImStucc'), (0.0, 'Exterior_MetalSd'), (0.0, 'Exterior_Other'), (0.0, 'Exterior_Plywood'), (-0.0, 'Exterior_Stone'), (-0.0, 'Exterior_Stucco'), (0.0, 'Exterior_VinylSd'), (0.0, 'Fence_GdWo'), (-0.0, 'Fence_MnPrv'), (-0.0, 'Fence_MnWw'), (0.0, 'Fence_NotApplicable'), (0.0, 'Fireplaces'), (-0.0, 'Floors'), (0.0, 'Foundation_CBlock'), (0.0, 'Foundation_PConc'), (0.0, 'Foundation_Slab'), (-0.0, 'Foundation_Stone'), (-0.0, 'Foundation_Wood'), (0.0, 'GarageArea'), (-0.0, 'GarageCond'), (0.0, 'GarageFinish'), (-0.0, 'GarageQual'), (0.0, 'GarageType_Attchd'), (0.0, 'GarageType_BuiltIn'), (0.0, 'GarageType_CarPort'), (-0.0, 'Heating_GasA'), (0.0, 'Heating_GasW'), (-0.0, 'Heating_Grav'), (0.0, 'Heating_Wall'), (-0.0, 'HouseStyleFloorsMap'), (0.0, 'HouseStyle_1.5Unf'), (0.0, 'HouseStyle_1Story'), (-0.0, 'HouseStyle_2.5Fin'), (-0.0, 'HouseStyle_2.5Unf'), (-0.0, 'HouseStyle_2Story'), (-0.0, 'HouseStyle_SFoyer'), (0.0, 'HouseStyle_SLvl'), (0.0, 'LandContour_Low'), (0.0, 'LandContour_Lvl'), (0.0, 'LandSlope_Sev'), (-0.0, 'LotConfig_FR2'), (-0.0, 'LotConfig_FR3'), (0.0, 'LotConfig_Inside'), (-0.0, 'LotShape'), (-0.0, 'LowQualFinSF'), (-0.0, 'MSSubClass_180'), (-0.0, 'MSSubClass_190'), (0.0, 'MSSubClass_30'), (0.0, 'MSSubClass_40'), (-0.0, 'MSSubClass_45'), (0.0, 'MSSubClass_50'), (0.0, 'MSSubClass_60'), (-0.0, 'MSSubClass_75'), (0.0, 'MSSubClass_80'), (-0.0, 'MSSubClass_85'), (0.0, 'MSSubClass_90'), (0.0, 'MSZoning_FV'), (-0.0, 'MSZoning_RH'), (-0.0, 'MasVnrType_BrkFace'), (0.0, 'MasVnrType_None'), (0.0, 'MiscFeature_NotApplicable'), (0.0, 'MiscFeature_Othr'), (-0.0, 'MiscFeature_Shed'), (0.0, 'MiscFeature_TenC'), (0.0, 'MiscVal'), (0.0, 'MoSold'), (-0.0, 'Neighborhood_Blueste'), (0.0, 'Neighborhood_BrDale'), (-0.0, 'Neighborhood_CollgCr'), (-0.0, 'Neighborhood_MeadowV'), (0.0, 'Neighborhood_Mitchel'), (-0.0, 'Neighborhood_NAmes'), (0.0, 'Neighborhood_NPkVill'), (-0.0, 'Neighborhood_SWISU'), (0.0, 'Neighborhood_Sawyer'), (-0.0, 'Neighborhood_SawyerW'), (-0.0, 'PavedDrive_P'), (0.0, 'RoofMatl_Metal'), (0.0, 'RoofMatl_Roll'), (0.0, 'RoofMatl_Tar&Grv'), (0.0, 'RoofMatl_WdShake'), (-0.0, 'RoofStyle_Gambrel'), (0.0, 'RoofStyle_Hip'), (0.0, 'RoofStyle_Mansard'), (0.0, 'SaleCondition_AdjLand'), (0.0, 'SaleCondition_Alloca'), (0.0, 'SaleCondition_Partial'), (-0.0, 'SaleType_CWD'), (0.0, 'SaleType_Con'), (0.0, 'SaleType_ConLD'), (-0.0, 'SaleType_ConLI'), (-0.0, 'SaleType_ConLw'), (0.0, 'SaleType_Oth'), (-0.0, 'SaleType_WD'), (0.0, 'TotalBsmtSF'), (0.0, 'Utilities_NoSeWa'), (0.0, 'YearBuilt'), (0.0, 'YearRemodAdd'), (-0.0, 'YrSold'), (28.700153767254854, 'MSZoning_RL'), (95.56548488045892, 'PavedDrive_Y'), (230.6374542393627, 'Neighborhood_ClearCr'), (255.2390421291784, 'RoofStyle_Shed'), (256.9895650512342, 'Street_Pave'), (269.7513925021161, 'LandContour_HLS'), (270.1038576468832, 'CentralAir_Y'), (312.0680990922108, 'Neighborhood_Timber'), (314.18599501058515, 'MasVnrType_Stone'), (379.40621512913276, 'LandSlope_Mod'), (405.38494032651613, 'HalfBath'), (463.17835944513314, 'RoofMatl_Membran'), (515.0962160674065, 'HeatingQC'), (663.1461796152493, '1stFlrSF'), (822.2022482015495, 'FullBath'), (923.1308576454134, 'Neighborhood_Veenker'), (1025.3368342411864, 'RoofMatl_CompShg'), (1072.1374542367735, 'SaleCondition_Normal'), (1142.1129322421293, 'Neighborhood_BrkSide'), (1404.5692604640499, 'OpenPorchSF'), (1428.4053053981158, 'Neighborhood_Somerst'), (1518.0506559069072, 'GarageYrBlt'), (1544.6579057083602, 'LotConfig_CulDSac'), (1684.570507276154, 'ScreenPorch'), (1712.3878208023652, 'WoodDeckSF'), (1828.7666725468855, 'Exterior_CemntBd'), (1904.0996818355018, 'Functional'), (2262.9026816212045, 'TotRmsAbvGrd'), (2289.0119888745735, 'MasVnrArea'), (2538.1660222883743, 'BsmtQual'), (2806.9682740879525, 'Exterior_BrkFace'), (2866.3204800027374, 'BsmtFullBath'), (3006.0842877090154, 'OverallCond'), (3013.1749370903744, 'RoofMatl_WdShngl'), (3066.1127190803086, 'MSSubClass_20'), (3193.3620436333154, 'BsmtExposure_Gd'), (3545.0480798837343, 'Neighborhood_Crawfor'), (3784.908746611526, 'FireplaceQu'), (3971.9000302222503, 'LotArea'), (4105.203615480135, 'ExterQual'), (4288.004589433822, 'BsmtFinType1'), (4576.7192324329135, 'Neighborhood_NoRidge'), (5200.897872433622, 'Neighborhood_StoneBr'), (5344.164019562759, 'KitchenQual'), (5912.949779046463, 'SaleType_New'), (7061.66170709104, 'GarageCars'), (7510.056020230336, 'Neighborhood_NridgHt'), (14060.695209039712, 'OverallQual'), (19615.970355115995, 'GrLivArea')]\n"
     ]
    }
   ],
   "source": [
    "print(sorted(list(zip(lasso.coef_, housing_sales_data.columns))))"
   ]
  },
  {
   "cell_type": "code",
   "execution_count": 367,
   "id": "2867d1e4",
   "metadata": {},
   "outputs": [
    {
     "data": {
      "image/png": "[encoded data removed]",
      "text/plain": [
       "<Figure size 432x288 with 1 Axes>"
      ]
     },
     "metadata": {
      "needs_background": "light"
     },
     "output_type": "display_data"
    },
    {
     "data": {
      "image/png": "[encoded data removed]",
      "text/plain": [
       "<Figure size 432x180 with 1 Axes>"
      ]
     },
     "metadata": {
      "needs_background": "light"
     },
     "output_type": "display_data"
    },
    {
     "data": {
      "image/png": "[encoded data removed]",
      "text/plain": [
       "<Figure size 432x180 with 1 Axes>"
      ]
     },
     "metadata": {
      "needs_background": "light"
     },
     "output_type": "display_data"
    }
   ],
   "source": [
    "plot_residual_analysis(residual_test)"
   ]
  },
  {
   "cell_type": "code",
   "execution_count": 277,
   "id": "76f5e16b",
   "metadata": {},
   "outputs": [],
   "source": [
    "#R2 values for train data is more "
   ]
  },
  {
   "cell_type": "code",
   "execution_count": 309,
   "id": "287f18cb",
   "metadata": {},
   "outputs": [
    {
     "data": {
      "image/png": "[encoded data removed]",
      "text/plain": [
       "<Figure size 432x288 with 1 Axes>"
      ]
     },
     "metadata": {
      "needs_background": "light"
     },
     "output_type": "display_data"
    }
   ],
   "source": [
    "cv_results = pd.DataFrame(model_cv.cv_results_)\n",
    "cv_results.head()\n",
    "\n",
    "# plotting mean test and train scoes with alpha \n",
    "cv_results['param_alpha'] = cv_results['param_alpha'].astype('float32')\n",
    "\n",
    "# plotting\n",
    "plt.plot(cv_results['param_alpha'], cv_results['mean_train_score'])\n",
    "plt.plot(cv_results['param_alpha'], cv_results['mean_test_score'])\n",
    "plt.xlabel('alpha')\n",
    "plt.ylabel('Negative Mean Absolute Error')\n",
    "\n",
    "plt.title(\"Negative Mean Absolute Error and alpha\")\n",
    "plt.legend(['train score', 'test score'], loc='upper left')\n",
    "plt.show()"
   ]
  },
  {
   "cell_type": "code",
   "execution_count": 310,
   "id": "07e05aad",
   "metadata": {},
   "outputs": [
    {
     "data": {
      "text/plain": [
       "<AxesSubplot:xlabel='SalePrice', ylabel='Density'>"
      ]
     },
     "execution_count": 310,
     "metadata": {},
     "output_type": "execute_result"
    },
    {
     "data": {
      "image/png": "[encoded data removed]",
      "text/plain": [
       "<Figure size 432x288 with 1 Axes>"
      ]
     },
     "metadata": {
      "needs_background": "light"
     },
     "output_type": "display_data"
    }
   ],
   "source": [
    "sns.distplot(residual_train)"
   ]
  },
  {
   "cell_type": "code",
   "execution_count": 311,
   "id": "e278f717",
   "metadata": {},
   "outputs": [
    {
     "data": {
      "text/plain": [
       "<AxesSubplot:xlabel='SalePrice', ylabel='Density'>"
      ]
     },
     "execution_count": 311,
     "metadata": {},
     "output_type": "execute_result"
    },
    {
     "data": {
      "image/png": "[encoded data removed]",
      "text/plain": [
       "<Figure size 432x288 with 1 Axes>"
      ]
     },
     "metadata": {
      "needs_background": "light"
     },
     "output_type": "display_data"
    }
   ],
   "source": [
    "sns.distplot(residual_test)"
   ]
  },
  {
   "cell_type": "code",
   "execution_count": 312,
   "id": "7a442e49",
   "metadata": {},
   "outputs": [
    {
     "data": {
      "image/png": "[encoded data removed]",
      "text/plain": [
       "<Figure size 432x180 with 1 Axes>"
      ]
     },
     "metadata": {
      "needs_background": "light"
     },
     "output_type": "display_data"
    }
   ],
   "source": [
    "fig, ax = plt.subplots(figsize=(6,2.5))\n",
    "_ = ax.scatter(y_pred_test, residual_test)"
   ]
  },
  {
   "cell_type": "code",
   "execution_count": 313,
   "id": "4938011f",
   "metadata": {},
   "outputs": [
    {
     "data": {
      "image/png": "[encoded data removed]",
      "text/plain": [
       "<Figure size 432x180 with 1 Axes>"
      ]
     },
     "metadata": {
      "needs_background": "light"
     },
     "output_type": "display_data"
    }
   ],
   "source": [
    "import scipy as sp\n",
    "fig, ax = plt.subplots(figsize=(6,2.5))\n",
    "_, (__, ___, r) = sp.stats.probplot(residual_train, plot=ax, fit=True)"
   ]
  },
  {
   "cell_type": "code",
   "execution_count": 302,
   "id": "b6a7d20f",
   "metadata": {},
   "outputs": [
    {
     "data": {
      "image/png": "[encoded data removed]",
      "text/plain": [
       "<Figure size 432x288 with 1 Axes>"
      ]
     },
     "metadata": {
      "needs_background": "light"
     },
     "output_type": "display_data"
    }
   ],
   "source": [
    "import statsmodels.tsa.api as smt\n",
    "acf = smt.graphics.plot_acf(residual_test, lags=40 , alpha=0.005)\n",
    "acf.show()"
   ]
  },
  {
   "cell_type": "code",
   "execution_count": null,
   "id": "99641200",
   "metadata": {},
   "outputs": [],
   "source": []
  },
  {
   "cell_type": "code",
   "execution_count": null,
   "id": "edee465e",
   "metadata": {},
   "outputs": [],
   "source": []
  }
 ],
 "metadata": {
  "kernelspec": {
   "display_name": "Python 3 (ipykernel)",
   "language": "python",
   "name": "python3"
  },
  "language_info": {
   "codemirror_mode": {
    "name": "ipython",
    "version": 3
   },
   "file_extension": ".py",
   "mimetype": "text/x-python",
   "name": "python",
   "nbconvert_exporter": "python",
   "pygments_lexer": "ipython3",
   "version": "3.9.7"
  }
 },
 "nbformat": 4,
 "nbformat_minor": 5
}
